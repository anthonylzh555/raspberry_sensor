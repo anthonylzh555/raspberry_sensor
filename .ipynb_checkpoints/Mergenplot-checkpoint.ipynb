{
 "cells": [
  {
   "cell_type": "markdown",
   "metadata": {},
   "source": [
    "# IMPORT DATA"
   ]
  },
  {
   "cell_type": "markdown",
   "metadata": {},
   "source": [
    "## Import new temp_data"
   ]
  },
  {
   "cell_type": "code",
   "execution_count": 30,
   "metadata": {},
   "outputs": [],
   "source": [
    "import pandas as pd\n",
    "temp_data = pd.read_csv('temp_data_new.csv')\n",
    "temp_data = temp_data.drop(['Unnamed: 0'], axis=1)"
   ]
  },
  {
   "cell_type": "code",
   "execution_count": 31,
   "metadata": {},
   "outputs": [
    {
     "name": "stdout",
     "output_type": "stream",
     "text": [
      "data amount : 188310\n"
     ]
    },
    {
     "data": {
      "text/html": [
       "<div>\n",
       "<style scoped>\n",
       "    .dataframe tbody tr th:only-of-type {\n",
       "        vertical-align: middle;\n",
       "    }\n",
       "\n",
       "    .dataframe tbody tr th {\n",
       "        vertical-align: top;\n",
       "    }\n",
       "\n",
       "    .dataframe thead th {\n",
       "        text-align: right;\n",
       "    }\n",
       "</style>\n",
       "<table border=\"1\" class=\"dataframe\">\n",
       "  <thead>\n",
       "    <tr style=\"text-align: right;\">\n",
       "      <th></th>\n",
       "      <th>time</th>\n",
       "      <th>temp</th>\n",
       "      <th>humid</th>\n",
       "    </tr>\n",
       "  </thead>\n",
       "  <tbody>\n",
       "    <tr>\n",
       "      <th>0</th>\n",
       "      <td>1574985601</td>\n",
       "      <td>21</td>\n",
       "      <td>73.0</td>\n",
       "    </tr>\n",
       "    <tr>\n",
       "      <th>1</th>\n",
       "      <td>1574985604</td>\n",
       "      <td>21</td>\n",
       "      <td>73.0</td>\n",
       "    </tr>\n",
       "    <tr>\n",
       "      <th>2</th>\n",
       "      <td>1574985607</td>\n",
       "      <td>21</td>\n",
       "      <td>73.0</td>\n",
       "    </tr>\n",
       "    <tr>\n",
       "      <th>3</th>\n",
       "      <td>1574985611</td>\n",
       "      <td>21</td>\n",
       "      <td>73.0</td>\n",
       "    </tr>\n",
       "    <tr>\n",
       "      <th>4</th>\n",
       "      <td>1574985614</td>\n",
       "      <td>21</td>\n",
       "      <td>73.0</td>\n",
       "    </tr>\n",
       "  </tbody>\n",
       "</table>\n",
       "</div>"
      ],
      "text/plain": [
       "         time  temp  humid\n",
       "0  1574985601    21   73.0\n",
       "1  1574985604    21   73.0\n",
       "2  1574985607    21   73.0\n",
       "3  1574985611    21   73.0\n",
       "4  1574985614    21   73.0"
      ]
     },
     "execution_count": 31,
     "metadata": {},
     "output_type": "execute_result"
    }
   ],
   "source": [
    "print(\"data amount :\",len(temp_data))\n",
    "temp_data.head(5)"
   ]
  },
  {
   "cell_type": "markdown",
   "metadata": {},
   "source": [
    "## Import new RTD_data"
   ]
  },
  {
   "cell_type": "code",
   "execution_count": 32,
   "metadata": {},
   "outputs": [],
   "source": [
    "RTD_data = pd.read_csv('RTD_data_new.csv')\n",
    "RTD_data = RTD_data.drop(['Unnamed: 0'], axis=1)"
   ]
  },
  {
   "cell_type": "code",
   "execution_count": 33,
   "metadata": {},
   "outputs": [
    {
     "name": "stdout",
     "output_type": "stream",
     "text": [
      "data amount : 563120\n"
     ]
    },
    {
     "data": {
      "text/html": [
       "<div>\n",
       "<style scoped>\n",
       "    .dataframe tbody tr th:only-of-type {\n",
       "        vertical-align: middle;\n",
       "    }\n",
       "\n",
       "    .dataframe tbody tr th {\n",
       "        vertical-align: top;\n",
       "    }\n",
       "\n",
       "    .dataframe thead th {\n",
       "        text-align: right;\n",
       "    }\n",
       "</style>\n",
       "<table border=\"1\" class=\"dataframe\">\n",
       "  <thead>\n",
       "    <tr style=\"text-align: right;\">\n",
       "      <th></th>\n",
       "      <th>time</th>\n",
       "      <th>temp</th>\n",
       "    </tr>\n",
       "  </thead>\n",
       "  <tbody>\n",
       "    <tr>\n",
       "      <th>0</th>\n",
       "      <td>1574985600</td>\n",
       "      <td>23</td>\n",
       "    </tr>\n",
       "    <tr>\n",
       "      <th>1</th>\n",
       "      <td>1574985602</td>\n",
       "      <td>23</td>\n",
       "    </tr>\n",
       "    <tr>\n",
       "      <th>2</th>\n",
       "      <td>1574985603</td>\n",
       "      <td>23</td>\n",
       "    </tr>\n",
       "    <tr>\n",
       "      <th>3</th>\n",
       "      <td>1574985604</td>\n",
       "      <td>23</td>\n",
       "    </tr>\n",
       "    <tr>\n",
       "      <th>4</th>\n",
       "      <td>1574985605</td>\n",
       "      <td>23</td>\n",
       "    </tr>\n",
       "  </tbody>\n",
       "</table>\n",
       "</div>"
      ],
      "text/plain": [
       "         time  temp\n",
       "0  1574985600    23\n",
       "1  1574985602    23\n",
       "2  1574985603    23\n",
       "3  1574985604    23\n",
       "4  1574985605    23"
      ]
     },
     "execution_count": 33,
     "metadata": {},
     "output_type": "execute_result"
    }
   ],
   "source": [
    "print(\"data amount :\",len(RTD_data))\n",
    "RTD_data.head(5)"
   ]
  },
  {
   "cell_type": "markdown",
   "metadata": {},
   "source": [
    "## Import new lux_data"
   ]
  },
  {
   "cell_type": "code",
   "execution_count": 34,
   "metadata": {},
   "outputs": [],
   "source": [
    "lux_data = pd.read_csv('lux_data_new.csv')\n",
    "lux_data = lux_data.drop(['Unnamed: 0'], axis=1)"
   ]
  },
  {
   "cell_type": "code",
   "execution_count": 35,
   "metadata": {},
   "outputs": [
    {
     "name": "stdout",
     "output_type": "stream",
     "text": [
      "data amount : 707002\n"
     ]
    },
    {
     "data": {
      "text/html": [
       "<div>\n",
       "<style scoped>\n",
       "    .dataframe tbody tr th:only-of-type {\n",
       "        vertical-align: middle;\n",
       "    }\n",
       "\n",
       "    .dataframe tbody tr th {\n",
       "        vertical-align: top;\n",
       "    }\n",
       "\n",
       "    .dataframe thead th {\n",
       "        text-align: right;\n",
       "    }\n",
       "</style>\n",
       "<table border=\"1\" class=\"dataframe\">\n",
       "  <thead>\n",
       "    <tr style=\"text-align: right;\">\n",
       "      <th></th>\n",
       "      <th>time</th>\n",
       "      <th>lux</th>\n",
       "    </tr>\n",
       "  </thead>\n",
       "  <tbody>\n",
       "    <tr>\n",
       "      <th>0</th>\n",
       "      <td>1574985600</td>\n",
       "      <td>487</td>\n",
       "    </tr>\n",
       "    <tr>\n",
       "      <th>1</th>\n",
       "      <td>1574985602</td>\n",
       "      <td>487</td>\n",
       "    </tr>\n",
       "    <tr>\n",
       "      <th>2</th>\n",
       "      <td>1574985603</td>\n",
       "      <td>487</td>\n",
       "    </tr>\n",
       "    <tr>\n",
       "      <th>3</th>\n",
       "      <td>1574985604</td>\n",
       "      <td>487</td>\n",
       "    </tr>\n",
       "    <tr>\n",
       "      <th>4</th>\n",
       "      <td>1574985605</td>\n",
       "      <td>488</td>\n",
       "    </tr>\n",
       "  </tbody>\n",
       "</table>\n",
       "</div>"
      ],
      "text/plain": [
       "         time  lux\n",
       "0  1574985600  487\n",
       "1  1574985602  487\n",
       "2  1574985603  487\n",
       "3  1574985604  487\n",
       "4  1574985605  488"
      ]
     },
     "execution_count": 35,
     "metadata": {},
     "output_type": "execute_result"
    }
   ],
   "source": [
    "print(\"data amount :\",len(lux_data))\n",
    "lux_data.head(5)"
   ]
  },
  {
   "cell_type": "markdown",
   "metadata": {},
   "source": [
    "## Merge"
   ]
  },
  {
   "cell_type": "code",
   "execution_count": 36,
   "metadata": {},
   "outputs": [],
   "source": [
    "new = pd.merge(temp_data,RTD_data, on='time',how='inner')"
   ]
  },
  {
   "cell_type": "code",
   "execution_count": 37,
   "metadata": {},
   "outputs": [
    {
     "data": {
      "text/plain": [
       "153360"
      ]
     },
     "execution_count": 37,
     "metadata": {},
     "output_type": "execute_result"
    }
   ],
   "source": [
    "len(new)"
   ]
  },
  {
   "cell_type": "code",
   "execution_count": 38,
   "metadata": {},
   "outputs": [
    {
     "data": {
      "text/html": [
       "<div>\n",
       "<style scoped>\n",
       "    .dataframe tbody tr th:only-of-type {\n",
       "        vertical-align: middle;\n",
       "    }\n",
       "\n",
       "    .dataframe tbody tr th {\n",
       "        vertical-align: top;\n",
       "    }\n",
       "\n",
       "    .dataframe thead th {\n",
       "        text-align: right;\n",
       "    }\n",
       "</style>\n",
       "<table border=\"1\" class=\"dataframe\">\n",
       "  <thead>\n",
       "    <tr style=\"text-align: right;\">\n",
       "      <th></th>\n",
       "      <th>time</th>\n",
       "      <th>temp_x</th>\n",
       "      <th>humid</th>\n",
       "      <th>temp_y</th>\n",
       "    </tr>\n",
       "  </thead>\n",
       "  <tbody>\n",
       "    <tr>\n",
       "      <th>0</th>\n",
       "      <td>1574985604</td>\n",
       "      <td>21</td>\n",
       "      <td>73.0</td>\n",
       "      <td>23</td>\n",
       "    </tr>\n",
       "    <tr>\n",
       "      <th>1</th>\n",
       "      <td>1574985607</td>\n",
       "      <td>21</td>\n",
       "      <td>73.0</td>\n",
       "      <td>23</td>\n",
       "    </tr>\n",
       "    <tr>\n",
       "      <th>2</th>\n",
       "      <td>1574985614</td>\n",
       "      <td>21</td>\n",
       "      <td>73.0</td>\n",
       "      <td>23</td>\n",
       "    </tr>\n",
       "    <tr>\n",
       "      <th>3</th>\n",
       "      <td>1574985617</td>\n",
       "      <td>21</td>\n",
       "      <td>73.0</td>\n",
       "      <td>23</td>\n",
       "    </tr>\n",
       "    <tr>\n",
       "      <th>4</th>\n",
       "      <td>1574985622</td>\n",
       "      <td>21</td>\n",
       "      <td>73.0</td>\n",
       "      <td>23</td>\n",
       "    </tr>\n",
       "  </tbody>\n",
       "</table>\n",
       "</div>"
      ],
      "text/plain": [
       "         time  temp_x  humid  temp_y\n",
       "0  1574985604      21   73.0      23\n",
       "1  1574985607      21   73.0      23\n",
       "2  1574985614      21   73.0      23\n",
       "3  1574985617      21   73.0      23\n",
       "4  1574985622      21   73.0      23"
      ]
     },
     "execution_count": 38,
     "metadata": {},
     "output_type": "execute_result"
    }
   ],
   "source": [
    "new.head(5)"
   ]
  },
  {
   "cell_type": "code",
   "execution_count": 39,
   "metadata": {},
   "outputs": [],
   "source": [
    "merged_data = pd.merge(new,lux_data, on='time',how='inner')"
   ]
  },
  {
   "cell_type": "code",
   "execution_count": 40,
   "metadata": {},
   "outputs": [
    {
     "data": {
      "text/plain": [
       "146035"
      ]
     },
     "execution_count": 40,
     "metadata": {},
     "output_type": "execute_result"
    }
   ],
   "source": [
    "len(merged_data)"
   ]
  },
  {
   "cell_type": "code",
   "execution_count": 41,
   "metadata": {},
   "outputs": [
    {
     "data": {
      "text/html": [
       "<div>\n",
       "<style scoped>\n",
       "    .dataframe tbody tr th:only-of-type {\n",
       "        vertical-align: middle;\n",
       "    }\n",
       "\n",
       "    .dataframe tbody tr th {\n",
       "        vertical-align: top;\n",
       "    }\n",
       "\n",
       "    .dataframe thead th {\n",
       "        text-align: right;\n",
       "    }\n",
       "</style>\n",
       "<table border=\"1\" class=\"dataframe\">\n",
       "  <thead>\n",
       "    <tr style=\"text-align: right;\">\n",
       "      <th></th>\n",
       "      <th>time</th>\n",
       "      <th>temp_x</th>\n",
       "      <th>humid</th>\n",
       "      <th>temp_y</th>\n",
       "      <th>lux</th>\n",
       "    </tr>\n",
       "  </thead>\n",
       "  <tbody>\n",
       "    <tr>\n",
       "      <th>0</th>\n",
       "      <td>1574985604</td>\n",
       "      <td>21</td>\n",
       "      <td>73.0</td>\n",
       "      <td>23</td>\n",
       "      <td>487</td>\n",
       "    </tr>\n",
       "    <tr>\n",
       "      <th>1</th>\n",
       "      <td>1574985607</td>\n",
       "      <td>21</td>\n",
       "      <td>73.0</td>\n",
       "      <td>23</td>\n",
       "      <td>488</td>\n",
       "    </tr>\n",
       "    <tr>\n",
       "      <th>2</th>\n",
       "      <td>1574985614</td>\n",
       "      <td>21</td>\n",
       "      <td>73.0</td>\n",
       "      <td>23</td>\n",
       "      <td>488</td>\n",
       "    </tr>\n",
       "    <tr>\n",
       "      <th>3</th>\n",
       "      <td>1574985622</td>\n",
       "      <td>21</td>\n",
       "      <td>73.0</td>\n",
       "      <td>23</td>\n",
       "      <td>488</td>\n",
       "    </tr>\n",
       "    <tr>\n",
       "      <th>4</th>\n",
       "      <td>1574985625</td>\n",
       "      <td>21</td>\n",
       "      <td>73.0</td>\n",
       "      <td>23</td>\n",
       "      <td>488</td>\n",
       "    </tr>\n",
       "  </tbody>\n",
       "</table>\n",
       "</div>"
      ],
      "text/plain": [
       "         time  temp_x  humid  temp_y  lux\n",
       "0  1574985604      21   73.0      23  487\n",
       "1  1574985607      21   73.0      23  488\n",
       "2  1574985614      21   73.0      23  488\n",
       "3  1574985622      21   73.0      23  488\n",
       "4  1574985625      21   73.0      23  488"
      ]
     },
     "execution_count": 41,
     "metadata": {},
     "output_type": "execute_result"
    }
   ],
   "source": [
    "merged_data.head()"
   ]
  },
  {
   "cell_type": "code",
   "execution_count": 42,
   "metadata": {},
   "outputs": [],
   "source": [
    "merged_data = merged_data.rename(columns={'temp_x':'temp'})\n",
    "merged_data = merged_data.rename(columns={'temp_y':'RTD_temp'})"
   ]
  },
  {
   "cell_type": "code",
   "execution_count": 43,
   "metadata": {},
   "outputs": [
    {
     "data": {
      "text/html": [
       "<div>\n",
       "<style scoped>\n",
       "    .dataframe tbody tr th:only-of-type {\n",
       "        vertical-align: middle;\n",
       "    }\n",
       "\n",
       "    .dataframe tbody tr th {\n",
       "        vertical-align: top;\n",
       "    }\n",
       "\n",
       "    .dataframe thead th {\n",
       "        text-align: right;\n",
       "    }\n",
       "</style>\n",
       "<table border=\"1\" class=\"dataframe\">\n",
       "  <thead>\n",
       "    <tr style=\"text-align: right;\">\n",
       "      <th></th>\n",
       "      <th>time</th>\n",
       "      <th>temp</th>\n",
       "      <th>humid</th>\n",
       "      <th>RTD_temp</th>\n",
       "      <th>lux</th>\n",
       "    </tr>\n",
       "  </thead>\n",
       "  <tbody>\n",
       "    <tr>\n",
       "      <th>0</th>\n",
       "      <td>1574985604</td>\n",
       "      <td>21</td>\n",
       "      <td>73.0</td>\n",
       "      <td>23</td>\n",
       "      <td>487</td>\n",
       "    </tr>\n",
       "    <tr>\n",
       "      <th>1</th>\n",
       "      <td>1574985607</td>\n",
       "      <td>21</td>\n",
       "      <td>73.0</td>\n",
       "      <td>23</td>\n",
       "      <td>488</td>\n",
       "    </tr>\n",
       "    <tr>\n",
       "      <th>2</th>\n",
       "      <td>1574985614</td>\n",
       "      <td>21</td>\n",
       "      <td>73.0</td>\n",
       "      <td>23</td>\n",
       "      <td>488</td>\n",
       "    </tr>\n",
       "    <tr>\n",
       "      <th>3</th>\n",
       "      <td>1574985622</td>\n",
       "      <td>21</td>\n",
       "      <td>73.0</td>\n",
       "      <td>23</td>\n",
       "      <td>488</td>\n",
       "    </tr>\n",
       "    <tr>\n",
       "      <th>4</th>\n",
       "      <td>1574985625</td>\n",
       "      <td>21</td>\n",
       "      <td>73.0</td>\n",
       "      <td>23</td>\n",
       "      <td>488</td>\n",
       "    </tr>\n",
       "  </tbody>\n",
       "</table>\n",
       "</div>"
      ],
      "text/plain": [
       "         time  temp  humid  RTD_temp  lux\n",
       "0  1574985604    21   73.0        23  487\n",
       "1  1574985607    21   73.0        23  488\n",
       "2  1574985614    21   73.0        23  488\n",
       "3  1574985622    21   73.0        23  488\n",
       "4  1574985625    21   73.0        23  488"
      ]
     },
     "execution_count": 43,
     "metadata": {},
     "output_type": "execute_result"
    }
   ],
   "source": [
    "merged_data.head()"
   ]
  },
  {
   "cell_type": "code",
   "execution_count": 44,
   "metadata": {},
   "outputs": [
    {
     "data": {
      "text/plain": [
       "146035"
      ]
     },
     "execution_count": 44,
     "metadata": {},
     "output_type": "execute_result"
    }
   ],
   "source": [
    "len(merged_data)"
   ]
  },
  {
   "cell_type": "code",
   "execution_count": 45,
   "metadata": {},
   "outputs": [],
   "source": [
    "merged_data.to_csv('all.csv')"
   ]
  },
  {
   "cell_type": "code",
   "execution_count": null,
   "metadata": {},
   "outputs": [],
   "source": []
  },
  {
   "cell_type": "markdown",
   "metadata": {},
   "source": [
    "# VVVVVVVVVVVVVVVVVVVVVVVVVVVVVVVVV"
   ]
  },
  {
   "cell_type": "markdown",
   "metadata": {},
   "source": [
    "# Import latest data"
   ]
  },
  {
   "cell_type": "code",
   "execution_count": 234,
   "metadata": {
    "scrolled": false
   },
   "outputs": [
    {
     "name": "stdout",
     "output_type": "stream",
     "text": [
      "145014\n"
     ]
    },
    {
     "data": {
      "text/html": [
       "<div>\n",
       "<style scoped>\n",
       "    .dataframe tbody tr th:only-of-type {\n",
       "        vertical-align: middle;\n",
       "    }\n",
       "\n",
       "    .dataframe tbody tr th {\n",
       "        vertical-align: top;\n",
       "    }\n",
       "\n",
       "    .dataframe thead th {\n",
       "        text-align: right;\n",
       "    }\n",
       "</style>\n",
       "<table border=\"1\" class=\"dataframe\">\n",
       "  <thead>\n",
       "    <tr style=\"text-align: right;\">\n",
       "      <th></th>\n",
       "      <th>time</th>\n",
       "      <th>temp</th>\n",
       "      <th>humid</th>\n",
       "      <th>RTD_temp</th>\n",
       "      <th>lux</th>\n",
       "    </tr>\n",
       "  </thead>\n",
       "  <tbody>\n",
       "    <tr>\n",
       "      <th>count</th>\n",
       "      <td>1.450140e+05</td>\n",
       "      <td>145014.000000</td>\n",
       "      <td>145014.000000</td>\n",
       "      <td>145014.000000</td>\n",
       "      <td>145014.000000</td>\n",
       "    </tr>\n",
       "    <tr>\n",
       "      <th>mean</th>\n",
       "      <td>1.575296e+09</td>\n",
       "      <td>23.669742</td>\n",
       "      <td>61.145945</td>\n",
       "      <td>25.456715</td>\n",
       "      <td>1900.840146</td>\n",
       "    </tr>\n",
       "    <tr>\n",
       "      <th>std</th>\n",
       "      <td>1.819022e+05</td>\n",
       "      <td>4.750889</td>\n",
       "      <td>11.371078</td>\n",
       "      <td>6.665100</td>\n",
       "      <td>4661.604841</td>\n",
       "    </tr>\n",
       "    <tr>\n",
       "      <th>min</th>\n",
       "      <td>1.574986e+09</td>\n",
       "      <td>18.000000</td>\n",
       "      <td>17.000000</td>\n",
       "      <td>20.000000</td>\n",
       "      <td>0.000000</td>\n",
       "    </tr>\n",
       "    <tr>\n",
       "      <th>25%</th>\n",
       "      <td>1.575138e+09</td>\n",
       "      <td>21.000000</td>\n",
       "      <td>57.000000</td>\n",
       "      <td>22.000000</td>\n",
       "      <td>0.000000</td>\n",
       "    </tr>\n",
       "    <tr>\n",
       "      <th>50%</th>\n",
       "      <td>1.575292e+09</td>\n",
       "      <td>22.000000</td>\n",
       "      <td>64.000000</td>\n",
       "      <td>23.000000</td>\n",
       "      <td>0.000000</td>\n",
       "    </tr>\n",
       "    <tr>\n",
       "      <th>75%</th>\n",
       "      <td>1.575455e+09</td>\n",
       "      <td>24.000000</td>\n",
       "      <td>69.000000</td>\n",
       "      <td>26.000000</td>\n",
       "      <td>1037.000000</td>\n",
       "    </tr>\n",
       "    <tr>\n",
       "      <th>max</th>\n",
       "      <td>1.575614e+09</td>\n",
       "      <td>47.000000</td>\n",
       "      <td>78.000000</td>\n",
       "      <td>55.000000</td>\n",
       "      <td>25311.000000</td>\n",
       "    </tr>\n",
       "  </tbody>\n",
       "</table>\n",
       "</div>"
      ],
      "text/plain": [
       "               time           temp          humid       RTD_temp  \\\n",
       "count  1.450140e+05  145014.000000  145014.000000  145014.000000   \n",
       "mean   1.575296e+09      23.669742      61.145945      25.456715   \n",
       "std    1.819022e+05       4.750889      11.371078       6.665100   \n",
       "min    1.574986e+09      18.000000      17.000000      20.000000   \n",
       "25%    1.575138e+09      21.000000      57.000000      22.000000   \n",
       "50%    1.575292e+09      22.000000      64.000000      23.000000   \n",
       "75%    1.575455e+09      24.000000      69.000000      26.000000   \n",
       "max    1.575614e+09      47.000000      78.000000      55.000000   \n",
       "\n",
       "                 lux  \n",
       "count  145014.000000  \n",
       "mean     1900.840146  \n",
       "std      4661.604841  \n",
       "min         0.000000  \n",
       "25%         0.000000  \n",
       "50%         0.000000  \n",
       "75%      1037.000000  \n",
       "max     25311.000000  "
      ]
     },
     "execution_count": 234,
     "metadata": {},
     "output_type": "execute_result"
    }
   ],
   "source": [
    "import pandas as pd\n",
    "all_data = pd.read_csv('all_new.csv')\n",
    "all_data = all_data.drop(['Unnamed: 0'], axis=1)\n",
    "all_data = all_data.iloc[:-1000,:]\n",
    "\n",
    "print(len(all_data))\n",
    "all_data.describe()"
   ]
  },
  {
   "cell_type": "code",
   "execution_count": 235,
   "metadata": {},
   "outputs": [
    {
     "name": "stdout",
     "output_type": "stream",
     "text": [
      "145014\n"
     ]
    },
    {
     "data": {
      "text/html": [
       "<div>\n",
       "<style scoped>\n",
       "    .dataframe tbody tr th:only-of-type {\n",
       "        vertical-align: middle;\n",
       "    }\n",
       "\n",
       "    .dataframe tbody tr th {\n",
       "        vertical-align: top;\n",
       "    }\n",
       "\n",
       "    .dataframe thead th {\n",
       "        text-align: right;\n",
       "    }\n",
       "</style>\n",
       "<table border=\"1\" class=\"dataframe\">\n",
       "  <thead>\n",
       "    <tr style=\"text-align: right;\">\n",
       "      <th></th>\n",
       "      <th>temp</th>\n",
       "      <th>humid</th>\n",
       "      <th>RTD_temp</th>\n",
       "      <th>lux</th>\n",
       "    </tr>\n",
       "  </thead>\n",
       "  <tbody>\n",
       "    <tr>\n",
       "      <th>count</th>\n",
       "      <td>145014.000000</td>\n",
       "      <td>145014.000000</td>\n",
       "      <td>145014.000000</td>\n",
       "      <td>145014.000000</td>\n",
       "    </tr>\n",
       "    <tr>\n",
       "      <th>mean</th>\n",
       "      <td>23.669742</td>\n",
       "      <td>61.145945</td>\n",
       "      <td>25.456715</td>\n",
       "      <td>1900.840146</td>\n",
       "    </tr>\n",
       "    <tr>\n",
       "      <th>std</th>\n",
       "      <td>4.750889</td>\n",
       "      <td>11.371078</td>\n",
       "      <td>6.665100</td>\n",
       "      <td>4661.604841</td>\n",
       "    </tr>\n",
       "    <tr>\n",
       "      <th>min</th>\n",
       "      <td>18.000000</td>\n",
       "      <td>17.000000</td>\n",
       "      <td>20.000000</td>\n",
       "      <td>0.000000</td>\n",
       "    </tr>\n",
       "    <tr>\n",
       "      <th>25%</th>\n",
       "      <td>21.000000</td>\n",
       "      <td>57.000000</td>\n",
       "      <td>22.000000</td>\n",
       "      <td>0.000000</td>\n",
       "    </tr>\n",
       "    <tr>\n",
       "      <th>50%</th>\n",
       "      <td>22.000000</td>\n",
       "      <td>64.000000</td>\n",
       "      <td>23.000000</td>\n",
       "      <td>0.000000</td>\n",
       "    </tr>\n",
       "    <tr>\n",
       "      <th>75%</th>\n",
       "      <td>24.000000</td>\n",
       "      <td>69.000000</td>\n",
       "      <td>26.000000</td>\n",
       "      <td>1037.000000</td>\n",
       "    </tr>\n",
       "    <tr>\n",
       "      <th>max</th>\n",
       "      <td>47.000000</td>\n",
       "      <td>78.000000</td>\n",
       "      <td>55.000000</td>\n",
       "      <td>25311.000000</td>\n",
       "    </tr>\n",
       "  </tbody>\n",
       "</table>\n",
       "</div>"
      ],
      "text/plain": [
       "                temp          humid       RTD_temp            lux\n",
       "count  145014.000000  145014.000000  145014.000000  145014.000000\n",
       "mean       23.669742      61.145945      25.456715    1900.840146\n",
       "std         4.750889      11.371078       6.665100    4661.604841\n",
       "min        18.000000      17.000000      20.000000       0.000000\n",
       "25%        21.000000      57.000000      22.000000       0.000000\n",
       "50%        22.000000      64.000000      23.000000       0.000000\n",
       "75%        24.000000      69.000000      26.000000    1037.000000\n",
       "max        47.000000      78.000000      55.000000   25311.000000"
      ]
     },
     "execution_count": 235,
     "metadata": {},
     "output_type": "execute_result"
    }
   ],
   "source": [
    "print(len(all_data.iloc[:,1:5]))\n",
    "all_data.iloc[:,1:5].describe()"
   ]
  },
  {
   "cell_type": "code",
   "execution_count": 236,
   "metadata": {
    "scrolled": true
   },
   "outputs": [
    {
     "data": {
      "text/html": [
       "<div>\n",
       "<style scoped>\n",
       "    .dataframe tbody tr th:only-of-type {\n",
       "        vertical-align: middle;\n",
       "    }\n",
       "\n",
       "    .dataframe tbody tr th {\n",
       "        vertical-align: top;\n",
       "    }\n",
       "\n",
       "    .dataframe thead th {\n",
       "        text-align: right;\n",
       "    }\n",
       "</style>\n",
       "<table border=\"1\" class=\"dataframe\">\n",
       "  <thead>\n",
       "    <tr style=\"text-align: right;\">\n",
       "      <th></th>\n",
       "      <th>time</th>\n",
       "      <th>temp</th>\n",
       "      <th>humid</th>\n",
       "      <th>RTD_temp</th>\n",
       "      <th>lux</th>\n",
       "    </tr>\n",
       "  </thead>\n",
       "  <tbody>\n",
       "    <tr>\n",
       "      <th>0</th>\n",
       "      <td>1574985604</td>\n",
       "      <td>21</td>\n",
       "      <td>73.0</td>\n",
       "      <td>23</td>\n",
       "      <td>487</td>\n",
       "    </tr>\n",
       "    <tr>\n",
       "      <th>1</th>\n",
       "      <td>1574985607</td>\n",
       "      <td>21</td>\n",
       "      <td>73.0</td>\n",
       "      <td>23</td>\n",
       "      <td>488</td>\n",
       "    </tr>\n",
       "    <tr>\n",
       "      <th>2</th>\n",
       "      <td>1574985614</td>\n",
       "      <td>21</td>\n",
       "      <td>73.0</td>\n",
       "      <td>23</td>\n",
       "      <td>488</td>\n",
       "    </tr>\n",
       "    <tr>\n",
       "      <th>3</th>\n",
       "      <td>1574985622</td>\n",
       "      <td>21</td>\n",
       "      <td>73.0</td>\n",
       "      <td>23</td>\n",
       "      <td>488</td>\n",
       "    </tr>\n",
       "    <tr>\n",
       "      <th>4</th>\n",
       "      <td>1574985625</td>\n",
       "      <td>21</td>\n",
       "      <td>73.0</td>\n",
       "      <td>23</td>\n",
       "      <td>488</td>\n",
       "    </tr>\n",
       "  </tbody>\n",
       "</table>\n",
       "</div>"
      ],
      "text/plain": [
       "         time  temp  humid  RTD_temp  lux\n",
       "0  1574985604    21   73.0        23  487\n",
       "1  1574985607    21   73.0        23  488\n",
       "2  1574985614    21   73.0        23  488\n",
       "3  1574985622    21   73.0        23  488\n",
       "4  1574985625    21   73.0        23  488"
      ]
     },
     "execution_count": 236,
     "metadata": {},
     "output_type": "execute_result"
    }
   ],
   "source": [
    "all_data.head(5)"
   ]
  },
  {
   "cell_type": "code",
   "execution_count": 237,
   "metadata": {
    "scrolled": true
   },
   "outputs": [
    {
     "data": {
      "text/html": [
       "<div>\n",
       "<style scoped>\n",
       "    .dataframe tbody tr th:only-of-type {\n",
       "        vertical-align: middle;\n",
       "    }\n",
       "\n",
       "    .dataframe tbody tr th {\n",
       "        vertical-align: top;\n",
       "    }\n",
       "\n",
       "    .dataframe thead th {\n",
       "        text-align: right;\n",
       "    }\n",
       "</style>\n",
       "<table border=\"1\" class=\"dataframe\">\n",
       "  <thead>\n",
       "    <tr style=\"text-align: right;\">\n",
       "      <th></th>\n",
       "      <th>time</th>\n",
       "      <th>temp</th>\n",
       "      <th>humid</th>\n",
       "      <th>RTD_temp</th>\n",
       "      <th>lux</th>\n",
       "    </tr>\n",
       "  </thead>\n",
       "  <tbody>\n",
       "    <tr>\n",
       "      <th>145009</th>\n",
       "      <td>1575614214</td>\n",
       "      <td>20</td>\n",
       "      <td>76.0</td>\n",
       "      <td>21</td>\n",
       "      <td>450</td>\n",
       "    </tr>\n",
       "    <tr>\n",
       "      <th>145010</th>\n",
       "      <td>1575614217</td>\n",
       "      <td>20</td>\n",
       "      <td>76.0</td>\n",
       "      <td>21</td>\n",
       "      <td>447</td>\n",
       "    </tr>\n",
       "    <tr>\n",
       "      <th>145011</th>\n",
       "      <td>1575614217</td>\n",
       "      <td>20</td>\n",
       "      <td>76.0</td>\n",
       "      <td>21</td>\n",
       "      <td>447</td>\n",
       "    </tr>\n",
       "    <tr>\n",
       "      <th>145012</th>\n",
       "      <td>1575614220</td>\n",
       "      <td>20</td>\n",
       "      <td>76.0</td>\n",
       "      <td>21</td>\n",
       "      <td>445</td>\n",
       "    </tr>\n",
       "    <tr>\n",
       "      <th>145013</th>\n",
       "      <td>1575614220</td>\n",
       "      <td>20</td>\n",
       "      <td>76.0</td>\n",
       "      <td>21</td>\n",
       "      <td>443</td>\n",
       "    </tr>\n",
       "  </tbody>\n",
       "</table>\n",
       "</div>"
      ],
      "text/plain": [
       "              time  temp  humid  RTD_temp  lux\n",
       "145009  1575614214    20   76.0        21  450\n",
       "145010  1575614217    20   76.0        21  447\n",
       "145011  1575614217    20   76.0        21  447\n",
       "145012  1575614220    20   76.0        21  445\n",
       "145013  1575614220    20   76.0        21  443"
      ]
     },
     "execution_count": 237,
     "metadata": {},
     "output_type": "execute_result"
    }
   ],
   "source": [
    "all_data.tail(5)"
   ]
  },
  {
   "cell_type": "code",
   "execution_count": 238,
   "metadata": {},
   "outputs": [
    {
     "name": "stdout",
     "output_type": "stream",
     "text": [
      "145014\n"
     ]
    }
   ],
   "source": [
    "print(len(all_data))"
   ]
  },
  {
   "cell_type": "code",
   "execution_count": null,
   "metadata": {},
   "outputs": [],
   "source": []
  },
  {
   "cell_type": "markdown",
   "metadata": {},
   "source": [
    "# PLOT"
   ]
  },
  {
   "cell_type": "code",
   "execution_count": 241,
   "metadata": {
    "scrolled": false
   },
   "outputs": [
    {
     "data": {
      "image/png": "[encoded data removed]",
      "text/plain": [
       "<Figure size 1584x432 with 1 Axes>"
      ]
     },
     "metadata": {
      "needs_background": "light"
     },
     "output_type": "display_data"
    },
    {
     "data": {
      "image/png": "[encoded data removed]",
      "text/plain": [
       "<Figure size 1584x432 with 1 Axes>"
      ]
     },
     "metadata": {
      "needs_background": "light"
     },
     "output_type": "display_data"
    },
    {
     "data": {
      "image/png": "[encoded data removed]",
      "text/plain": [
       "<Figure size 1584x432 with 1 Axes>"
      ]
     },
     "metadata": {
      "needs_background": "light"
     },
     "output_type": "display_data"
    },
    {
     "data": {
      "image/png": "[encoded data removed]",
      "text/plain": [
       "<Figure size 1584x432 with 1 Axes>"
      ]
     },
     "metadata": {
      "needs_background": "light"
     },
     "output_type": "display_data"
    }
   ],
   "source": [
    "import matplotlib.pyplot as plt\n",
    "import pandas as pd\n",
    "\n",
    "f, ax = plt.subplots(figsize=(22, 6))\n",
    "plt.scatter(all_data['time'],all_data['temp'],color='green')\n",
    "\n",
    "f, ax = plt.subplots(figsize=(22, 6))\n",
    "plt.scatter(all_data['time'],all_data['RTD_temp'],color='green')\n",
    "\n",
    "f, ax = plt.subplots(figsize=(22, 6))\n",
    "plt.scatter(all_data['time'],all_data['humid'],color='blue')\n",
    "\n",
    "f, ax = plt.subplots(figsize=(22, 6))\n",
    "plt.scatter(all_data['time'],all_data['lux'],color='yellow')\n",
    "\n",
    "# plt.legend()\n",
    "plt.show()"
   ]
  },
  {
   "cell_type": "code",
   "execution_count": 261,
   "metadata": {},
   "outputs": [
    {
     "data": {
      "image/png": "[encoded data removed]",
      "text/plain": [
       "<Figure size 1584x432 with 1 Axes>"
      ]
     },
     "metadata": {
      "needs_background": "light"
     },
     "output_type": "display_data"
    }
   ],
   "source": [
    "f, ax = plt.subplots(figsize=(22, 6))\n",
    "plt.scatter(all_data['time'],all_data['temp'],color='green',label='temp')\n",
    "plt.scatter(all_data['time'],all_data['RTD_temp'],color='red',label='RTD_temp')\n",
    "plt.xlim(['2019-11-28 18:00:00','2019-12-06 14:00:00'])\n",
    "\n",
    "plt.legend()\n",
    "plt.show()"
   ]
  },
  {
   "cell_type": "code",
   "execution_count": 243,
   "metadata": {},
   "outputs": [
    {
     "data": {
      "text/plain": [
       "0    1574985604\n",
       "1    1574985607\n",
       "2    1574985614\n",
       "3    1574985622\n",
       "4    1574985625\n",
       "Name: time, dtype: int64"
      ]
     },
     "execution_count": 243,
     "metadata": {},
     "output_type": "execute_result"
    }
   ],
   "source": [
    "all_data['time'].head()"
   ]
  },
  {
   "cell_type": "code",
   "execution_count": 244,
   "metadata": {},
   "outputs": [],
   "source": [
    "all_data['time'] = pd.to_datetime(all_data['time'], unit = 's')"
   ]
  },
  {
   "cell_type": "code",
   "execution_count": 245,
   "metadata": {},
   "outputs": [
    {
     "data": {
      "text/html": [
       "<div>\n",
       "<style scoped>\n",
       "    .dataframe tbody tr th:only-of-type {\n",
       "        vertical-align: middle;\n",
       "    }\n",
       "\n",
       "    .dataframe tbody tr th {\n",
       "        vertical-align: top;\n",
       "    }\n",
       "\n",
       "    .dataframe thead th {\n",
       "        text-align: right;\n",
       "    }\n",
       "</style>\n",
       "<table border=\"1\" class=\"dataframe\">\n",
       "  <thead>\n",
       "    <tr style=\"text-align: right;\">\n",
       "      <th></th>\n",
       "      <th>time</th>\n",
       "      <th>temp</th>\n",
       "      <th>humid</th>\n",
       "      <th>RTD_temp</th>\n",
       "      <th>lux</th>\n",
       "    </tr>\n",
       "  </thead>\n",
       "  <tbody>\n",
       "    <tr>\n",
       "      <th>0</th>\n",
       "      <td>2019-11-29 00:00:04</td>\n",
       "      <td>21</td>\n",
       "      <td>73.0</td>\n",
       "      <td>23</td>\n",
       "      <td>487</td>\n",
       "    </tr>\n",
       "    <tr>\n",
       "      <th>1</th>\n",
       "      <td>2019-11-29 00:00:07</td>\n",
       "      <td>21</td>\n",
       "      <td>73.0</td>\n",
       "      <td>23</td>\n",
       "      <td>488</td>\n",
       "    </tr>\n",
       "    <tr>\n",
       "      <th>2</th>\n",
       "      <td>2019-11-29 00:00:14</td>\n",
       "      <td>21</td>\n",
       "      <td>73.0</td>\n",
       "      <td>23</td>\n",
       "      <td>488</td>\n",
       "    </tr>\n",
       "    <tr>\n",
       "      <th>3</th>\n",
       "      <td>2019-11-29 00:00:22</td>\n",
       "      <td>21</td>\n",
       "      <td>73.0</td>\n",
       "      <td>23</td>\n",
       "      <td>488</td>\n",
       "    </tr>\n",
       "    <tr>\n",
       "      <th>4</th>\n",
       "      <td>2019-11-29 00:00:25</td>\n",
       "      <td>21</td>\n",
       "      <td>73.0</td>\n",
       "      <td>23</td>\n",
       "      <td>488</td>\n",
       "    </tr>\n",
       "    <tr>\n",
       "      <th>5</th>\n",
       "      <td>2019-11-29 00:00:28</td>\n",
       "      <td>21</td>\n",
       "      <td>73.0</td>\n",
       "      <td>23</td>\n",
       "      <td>488</td>\n",
       "    </tr>\n",
       "    <tr>\n",
       "      <th>6</th>\n",
       "      <td>2019-11-29 00:00:31</td>\n",
       "      <td>21</td>\n",
       "      <td>73.0</td>\n",
       "      <td>23</td>\n",
       "      <td>489</td>\n",
       "    </tr>\n",
       "    <tr>\n",
       "      <th>7</th>\n",
       "      <td>2019-11-29 00:00:38</td>\n",
       "      <td>21</td>\n",
       "      <td>73.0</td>\n",
       "      <td>23</td>\n",
       "      <td>490</td>\n",
       "    </tr>\n",
       "    <tr>\n",
       "      <th>8</th>\n",
       "      <td>2019-11-29 00:00:41</td>\n",
       "      <td>21</td>\n",
       "      <td>73.0</td>\n",
       "      <td>23</td>\n",
       "      <td>490</td>\n",
       "    </tr>\n",
       "    <tr>\n",
       "      <th>9</th>\n",
       "      <td>2019-11-29 00:00:44</td>\n",
       "      <td>21</td>\n",
       "      <td>73.0</td>\n",
       "      <td>23</td>\n",
       "      <td>491</td>\n",
       "    </tr>\n",
       "  </tbody>\n",
       "</table>\n",
       "</div>"
      ],
      "text/plain": [
       "                 time  temp  humid  RTD_temp  lux\n",
       "0 2019-11-29 00:00:04    21   73.0        23  487\n",
       "1 2019-11-29 00:00:07    21   73.0        23  488\n",
       "2 2019-11-29 00:00:14    21   73.0        23  488\n",
       "3 2019-11-29 00:00:22    21   73.0        23  488\n",
       "4 2019-11-29 00:00:25    21   73.0        23  488\n",
       "5 2019-11-29 00:00:28    21   73.0        23  488\n",
       "6 2019-11-29 00:00:31    21   73.0        23  489\n",
       "7 2019-11-29 00:00:38    21   73.0        23  490\n",
       "8 2019-11-29 00:00:41    21   73.0        23  490\n",
       "9 2019-11-29 00:00:44    21   73.0        23  491"
      ]
     },
     "execution_count": 245,
     "metadata": {},
     "output_type": "execute_result"
    }
   ],
   "source": [
    "all_data.head(10)"
   ]
  },
  {
   "cell_type": "code",
   "execution_count": 258,
   "metadata": {},
   "outputs": [
    {
     "data": {
      "text/plain": [
       "(737391.75, 737399.5833333334)"
      ]
     },
     "execution_count": 258,
     "metadata": {},
     "output_type": "execute_result"
    },
    {
     "data": {
      "image/png": "[encoded data removed]",
      "text/plain": [
       "<Figure size 1584x432 with 1 Axes>"
      ]
     },
     "metadata": {
      "needs_background": "light"
     },
     "output_type": "display_data"
    },
    {
     "data": {
      "image/png": "[encoded data removed]",
      "text/plain": [
       "<Figure size 1584x432 with 1 Axes>"
      ]
     },
     "metadata": {
      "needs_background": "light"
     },
     "output_type": "display_data"
    },
    {
     "data": {
      "image/png": "[encoded data removed]",
      "text/plain": [
       "<Figure size 1584x432 with 1 Axes>"
      ]
     },
     "metadata": {
      "needs_background": "light"
     },
     "output_type": "display_data"
    },
    {
     "data": {
      "image/png": "[encoded data removed]",
      "text/plain": [
       "<Figure size 1584x432 with 1 Axes>"
      ]
     },
     "metadata": {
      "needs_background": "light"
     },
     "output_type": "display_data"
    }
   ],
   "source": [
    "f, ax = plt.subplots(figsize=(22, 6))\n",
    "plt.scatter(all_data['time'],all_data['temp_ma'],color='green')\n",
    "plt.xlim(['2019-11-28 18:00:00','2019-12-06 14:00:00'])\n",
    "\n",
    "f, ax = plt.subplots(figsize=(22, 6))\n",
    "plt.scatter(all_data['time'],all_data['RTD_temp_ma'],color='green')\n",
    "plt.xlim(['2019-11-28 18:00:00','2019-12-06 14:00:00'])\n",
    "\n",
    "f, ax = plt.subplots(figsize=(22, 6))\n",
    "plt.scatter(all_data['time'],all_data['humid_ma'],color='blue')\n",
    "plt.xlim(['2019-11-28 18:00:00','2019-12-06 14:00:00'])\n",
    "\n",
    "f, ax = plt.subplots(figsize=(22, 6))\n",
    "plt.scatter(all_data['time'],all_data['lux_ma'],color='yellow')\n",
    "plt.xlim(['2019-11-28 18:00:00','2019-12-06 14:00:00'])"
   ]
  },
  {
   "cell_type": "markdown",
   "metadata": {},
   "source": [
    "## moving average"
   ]
  },
  {
   "cell_type": "code",
   "execution_count": 247,
   "metadata": {},
   "outputs": [],
   "source": [
    "all_data['temp_ma'] = all_data['temp'].rolling(window=4).mean()\n",
    "all_data['humid_ma'] = all_data['humid'].rolling(window=4).mean()\n",
    "all_data['RTD_temp_ma'] = all_data['RTD_temp'].rolling(window=4).mean()\n",
    "all_data['lux_ma'] = all_data['lux'].rolling(window=4).mean()"
   ]
  },
  {
   "cell_type": "code",
   "execution_count": 248,
   "metadata": {},
   "outputs": [
    {
     "data": {
      "text/html": [
       "<div>\n",
       "<style scoped>\n",
       "    .dataframe tbody tr th:only-of-type {\n",
       "        vertical-align: middle;\n",
       "    }\n",
       "\n",
       "    .dataframe tbody tr th {\n",
       "        vertical-align: top;\n",
       "    }\n",
       "\n",
       "    .dataframe thead th {\n",
       "        text-align: right;\n",
       "    }\n",
       "</style>\n",
       "<table border=\"1\" class=\"dataframe\">\n",
       "  <thead>\n",
       "    <tr style=\"text-align: right;\">\n",
       "      <th></th>\n",
       "      <th>time</th>\n",
       "      <th>temp</th>\n",
       "      <th>humid</th>\n",
       "      <th>RTD_temp</th>\n",
       "      <th>lux</th>\n",
       "      <th>temp_ma</th>\n",
       "      <th>humid_ma</th>\n",
       "      <th>RTD_temp_ma</th>\n",
       "      <th>lux_ma</th>\n",
       "    </tr>\n",
       "  </thead>\n",
       "  <tbody>\n",
       "    <tr>\n",
       "      <th>0</th>\n",
       "      <td>2019-11-29 00:00:04</td>\n",
       "      <td>21</td>\n",
       "      <td>73.0</td>\n",
       "      <td>23</td>\n",
       "      <td>487</td>\n",
       "      <td>NaN</td>\n",
       "      <td>NaN</td>\n",
       "      <td>NaN</td>\n",
       "      <td>NaN</td>\n",
       "    </tr>\n",
       "    <tr>\n",
       "      <th>1</th>\n",
       "      <td>2019-11-29 00:00:07</td>\n",
       "      <td>21</td>\n",
       "      <td>73.0</td>\n",
       "      <td>23</td>\n",
       "      <td>488</td>\n",
       "      <td>NaN</td>\n",
       "      <td>NaN</td>\n",
       "      <td>NaN</td>\n",
       "      <td>NaN</td>\n",
       "    </tr>\n",
       "    <tr>\n",
       "      <th>2</th>\n",
       "      <td>2019-11-29 00:00:14</td>\n",
       "      <td>21</td>\n",
       "      <td>73.0</td>\n",
       "      <td>23</td>\n",
       "      <td>488</td>\n",
       "      <td>NaN</td>\n",
       "      <td>NaN</td>\n",
       "      <td>NaN</td>\n",
       "      <td>NaN</td>\n",
       "    </tr>\n",
       "    <tr>\n",
       "      <th>3</th>\n",
       "      <td>2019-11-29 00:00:22</td>\n",
       "      <td>21</td>\n",
       "      <td>73.0</td>\n",
       "      <td>23</td>\n",
       "      <td>488</td>\n",
       "      <td>21.0</td>\n",
       "      <td>73.0</td>\n",
       "      <td>23.0</td>\n",
       "      <td>487.75</td>\n",
       "    </tr>\n",
       "    <tr>\n",
       "      <th>4</th>\n",
       "      <td>2019-11-29 00:00:25</td>\n",
       "      <td>21</td>\n",
       "      <td>73.0</td>\n",
       "      <td>23</td>\n",
       "      <td>488</td>\n",
       "      <td>21.0</td>\n",
       "      <td>73.0</td>\n",
       "      <td>23.0</td>\n",
       "      <td>488.00</td>\n",
       "    </tr>\n",
       "    <tr>\n",
       "      <th>5</th>\n",
       "      <td>2019-11-29 00:00:28</td>\n",
       "      <td>21</td>\n",
       "      <td>73.0</td>\n",
       "      <td>23</td>\n",
       "      <td>488</td>\n",
       "      <td>21.0</td>\n",
       "      <td>73.0</td>\n",
       "      <td>23.0</td>\n",
       "      <td>488.00</td>\n",
       "    </tr>\n",
       "  </tbody>\n",
       "</table>\n",
       "</div>"
      ],
      "text/plain": [
       "                 time  temp  humid  RTD_temp  lux  temp_ma  humid_ma  \\\n",
       "0 2019-11-29 00:00:04    21   73.0        23  487      NaN       NaN   \n",
       "1 2019-11-29 00:00:07    21   73.0        23  488      NaN       NaN   \n",
       "2 2019-11-29 00:00:14    21   73.0        23  488      NaN       NaN   \n",
       "3 2019-11-29 00:00:22    21   73.0        23  488     21.0      73.0   \n",
       "4 2019-11-29 00:00:25    21   73.0        23  488     21.0      73.0   \n",
       "5 2019-11-29 00:00:28    21   73.0        23  488     21.0      73.0   \n",
       "\n",
       "   RTD_temp_ma  lux_ma  \n",
       "0          NaN     NaN  \n",
       "1          NaN     NaN  \n",
       "2          NaN     NaN  \n",
       "3         23.0  487.75  \n",
       "4         23.0  488.00  \n",
       "5         23.0  488.00  "
      ]
     },
     "execution_count": 248,
     "metadata": {},
     "output_type": "execute_result"
    }
   ],
   "source": [
    "all_data.head(6)"
   ]
  },
  {
   "cell_type": "code",
   "execution_count": 249,
   "metadata": {
    "scrolled": false
   },
   "outputs": [
    {
     "data": {
      "text/plain": [
       "(737391.75, 737399.5833333334)"
      ]
     },
     "execution_count": 249,
     "metadata": {},
     "output_type": "execute_result"
    },
    {
     "data": {
      "image/png": "[encoded data removed]",
      "text/plain": [
       "<Figure size 1584x432 with 1 Axes>"
      ]
     },
     "metadata": {
      "needs_background": "light"
     },
     "output_type": "display_data"
    },
    {
     "data": {
      "image/png": "[encoded data removed]",
      "text/plain": [
       "<Figure size 1584x432 with 1 Axes>"
      ]
     },
     "metadata": {
      "needs_background": "light"
     },
     "output_type": "display_data"
    },
    {
     "data": {
      "image/png": "[encoded data removed]",
      "text/plain": [
       "<Figure size 1584x432 with 1 Axes>"
      ]
     },
     "metadata": {
      "needs_background": "light"
     },
     "output_type": "display_data"
    },
    {
     "data": {
      "image/png": "[encoded data removed]",
      "text/plain": [
       "<Figure size 1584x432 with 1 Axes>"
      ]
     },
     "metadata": {
      "needs_background": "light"
     },
     "output_type": "display_data"
    }
   ],
   "source": [
    "f, ax = plt.subplots(figsize=(22, 6))\n",
    "plt.scatter(all_data['time'],all_data['temp'],color='green')\n",
    "plt.scatter(all_data['time'],all_data['temp_ma'],color='red')\n",
    "plt.xlim(['2019-11-28 18:00:00','2019-12-06 14:00:00'])\n",
    "\n",
    "f, ax = plt.subplots(figsize=(22, 6))\n",
    "plt.scatter(all_data['time'],all_data['RTD_temp'],color='green')\n",
    "plt.scatter(all_data['time'],all_data['RTD_temp_ma'],color='red')\n",
    "plt.xlim(['2019-11-28 18:00:00','2019-12-06 14:00:00'])\n",
    "\n",
    "f, ax = plt.subplots(figsize=(22, 6))\n",
    "plt.scatter(all_data['time'],all_data['humid'],color='blue')\n",
    "plt.scatter(all_data['time'],all_data['humid_ma'],color='red')\n",
    "plt.xlim(['2019-11-28 18:00:00','2019-12-06 14:00:00'])\n",
    "\n",
    "f, ax = plt.subplots(figsize=(22, 6))\n",
    "plt.scatter(all_data['time'],all_data['lux'],color='yellow')\n",
    "plt.scatter(all_data['time'],all_data['lux_ma'],color='red')\n",
    "plt.xlim(['2019-11-28 18:00:00','2019-12-06 14:00:00'])"
   ]
  },
  {
   "cell_type": "code",
   "execution_count": 250,
   "metadata": {},
   "outputs": [
    {
     "data": {
      "text/plain": [
       "(737391.75, 737399.5833333334)"
      ]
     },
     "execution_count": 250,
     "metadata": {},
     "output_type": "execute_result"
    },
    {
     "data": {
      "image/png": "[encoded data removed]",
      "text/plain": [
       "<Figure size 1584x432 with 1 Axes>"
      ]
     },
     "metadata": {
      "needs_background": "light"
     },
     "output_type": "display_data"
    }
   ],
   "source": [
    "f, ax = plt.subplots(figsize=(22, 6))\n",
    "plt.scatter(all_data['time'],all_data['temp_ma'],color='green')\n",
    "plt.scatter(all_data['time'],all_data['RTD_temp_ma'],color='red')\n",
    "plt.xlim(['2019-11-28 18:00:00','2019-12-06 14:00:00'])"
   ]
  },
  {
   "cell_type": "code",
   "execution_count": 251,
   "metadata": {},
   "outputs": [
    {
     "data": {
      "text/html": [
       "<div>\n",
       "<style scoped>\n",
       "    .dataframe tbody tr th:only-of-type {\n",
       "        vertical-align: middle;\n",
       "    }\n",
       "\n",
       "    .dataframe tbody tr th {\n",
       "        vertical-align: top;\n",
       "    }\n",
       "\n",
       "    .dataframe thead th {\n",
       "        text-align: right;\n",
       "    }\n",
       "</style>\n",
       "<table border=\"1\" class=\"dataframe\">\n",
       "  <thead>\n",
       "    <tr style=\"text-align: right;\">\n",
       "      <th></th>\n",
       "      <th>temp</th>\n",
       "      <th>humid</th>\n",
       "      <th>RTD_temp</th>\n",
       "      <th>lux</th>\n",
       "      <th>temp_ma</th>\n",
       "      <th>humid_ma</th>\n",
       "      <th>RTD_temp_ma</th>\n",
       "      <th>lux_ma</th>\n",
       "    </tr>\n",
       "  </thead>\n",
       "  <tbody>\n",
       "    <tr>\n",
       "      <th>count</th>\n",
       "      <td>145014.000000</td>\n",
       "      <td>145014.000000</td>\n",
       "      <td>145014.000000</td>\n",
       "      <td>145014.000000</td>\n",
       "      <td>145011.000000</td>\n",
       "      <td>145011.000000</td>\n",
       "      <td>145011.000000</td>\n",
       "      <td>145011.000000</td>\n",
       "    </tr>\n",
       "    <tr>\n",
       "      <th>mean</th>\n",
       "      <td>23.669742</td>\n",
       "      <td>61.145945</td>\n",
       "      <td>25.456715</td>\n",
       "      <td>1900.840146</td>\n",
       "      <td>23.669808</td>\n",
       "      <td>61.145668</td>\n",
       "      <td>25.456786</td>\n",
       "      <td>1900.869832</td>\n",
       "    </tr>\n",
       "    <tr>\n",
       "      <th>std</th>\n",
       "      <td>4.750889</td>\n",
       "      <td>11.371078</td>\n",
       "      <td>6.665100</td>\n",
       "      <td>4661.604841</td>\n",
       "      <td>4.748645</td>\n",
       "      <td>11.369430</td>\n",
       "      <td>6.664649</td>\n",
       "      <td>4652.924046</td>\n",
       "    </tr>\n",
       "    <tr>\n",
       "      <th>min</th>\n",
       "      <td>18.000000</td>\n",
       "      <td>17.000000</td>\n",
       "      <td>20.000000</td>\n",
       "      <td>0.000000</td>\n",
       "      <td>19.000000</td>\n",
       "      <td>17.500000</td>\n",
       "      <td>20.000000</td>\n",
       "      <td>0.000000</td>\n",
       "    </tr>\n",
       "    <tr>\n",
       "      <th>25%</th>\n",
       "      <td>21.000000</td>\n",
       "      <td>57.000000</td>\n",
       "      <td>22.000000</td>\n",
       "      <td>0.000000</td>\n",
       "      <td>21.000000</td>\n",
       "      <td>57.000000</td>\n",
       "      <td>22.000000</td>\n",
       "      <td>0.000000</td>\n",
       "    </tr>\n",
       "    <tr>\n",
       "      <th>50%</th>\n",
       "      <td>22.000000</td>\n",
       "      <td>64.000000</td>\n",
       "      <td>23.000000</td>\n",
       "      <td>0.000000</td>\n",
       "      <td>22.000000</td>\n",
       "      <td>64.500000</td>\n",
       "      <td>23.000000</td>\n",
       "      <td>0.000000</td>\n",
       "    </tr>\n",
       "    <tr>\n",
       "      <th>75%</th>\n",
       "      <td>24.000000</td>\n",
       "      <td>69.000000</td>\n",
       "      <td>26.000000</td>\n",
       "      <td>1037.000000</td>\n",
       "      <td>24.000000</td>\n",
       "      <td>69.000000</td>\n",
       "      <td>26.000000</td>\n",
       "      <td>1036.500000</td>\n",
       "    </tr>\n",
       "    <tr>\n",
       "      <th>max</th>\n",
       "      <td>47.000000</td>\n",
       "      <td>78.000000</td>\n",
       "      <td>55.000000</td>\n",
       "      <td>25311.000000</td>\n",
       "      <td>47.000000</td>\n",
       "      <td>78.000000</td>\n",
       "      <td>55.000000</td>\n",
       "      <td>25057.000000</td>\n",
       "    </tr>\n",
       "  </tbody>\n",
       "</table>\n",
       "</div>"
      ],
      "text/plain": [
       "                temp          humid       RTD_temp            lux  \\\n",
       "count  145014.000000  145014.000000  145014.000000  145014.000000   \n",
       "mean       23.669742      61.145945      25.456715    1900.840146   \n",
       "std         4.750889      11.371078       6.665100    4661.604841   \n",
       "min        18.000000      17.000000      20.000000       0.000000   \n",
       "25%        21.000000      57.000000      22.000000       0.000000   \n",
       "50%        22.000000      64.000000      23.000000       0.000000   \n",
       "75%        24.000000      69.000000      26.000000    1037.000000   \n",
       "max        47.000000      78.000000      55.000000   25311.000000   \n",
       "\n",
       "             temp_ma       humid_ma    RTD_temp_ma         lux_ma  \n",
       "count  145011.000000  145011.000000  145011.000000  145011.000000  \n",
       "mean       23.669808      61.145668      25.456786    1900.869832  \n",
       "std         4.748645      11.369430       6.664649    4652.924046  \n",
       "min        19.000000      17.500000      20.000000       0.000000  \n",
       "25%        21.000000      57.000000      22.000000       0.000000  \n",
       "50%        22.000000      64.500000      23.000000       0.000000  \n",
       "75%        24.000000      69.000000      26.000000    1036.500000  \n",
       "max        47.000000      78.000000      55.000000   25057.000000  "
      ]
     },
     "execution_count": 251,
     "metadata": {},
     "output_type": "execute_result"
    }
   ],
   "source": [
    "all_data.describe()"
   ]
  },
  {
   "cell_type": "code",
   "execution_count": 262,
   "metadata": {},
   "outputs": [
    {
     "data": {
      "image/png": "[encoded data removed]",
      "text/plain": [
       "<Figure size 1584x432 with 1 Axes>"
      ]
     },
     "metadata": {
      "needs_background": "light"
     },
     "output_type": "display_data"
    }
   ],
   "source": [
    "f, ax = plt.subplots(figsize=(22, 6))\n",
    "plt.scatter(all_data['time'],all_data['temp_ma'],color='green',label='temp')\n",
    "plt.scatter(all_data['time'],all_data['RTD_temp_ma'],color='red',label='RTD_temp')\n",
    "plt.xlim(['2019-11-28 18:00:00','2019-12-06 14:00:00'])\n",
    "\n",
    "plt.legend()\n",
    "plt.show()"
   ]
  },
  {
   "cell_type": "code",
   "execution_count": 252,
   "metadata": {},
   "outputs": [
    {
     "data": {
      "text/plain": [
       "Text(0, 0.5, 'values of temp_ma')"
      ]
     },
     "execution_count": 252,
     "metadata": {},
     "output_type": "execute_result"
    },
    {
     "data": {
      "image/png": "[encoded data removed]",
      "text/plain": [
       "<Figure size 720x432 with 2 Axes>"
      ]
     },
     "metadata": {
      "needs_background": "light"
     },
     "output_type": "display_data"
    }
   ],
   "source": [
    "fig,axes = plt.subplots(1,2,figsize=(10,6))\n",
    "color = dict(boxes='DarkGreen', whiskers='DarkOrange', medians='DarkBlue', caps='Red')\n",
    "\n",
    "all_data['temp'].plot(kind='box',ax=axes[0],subplots=True,title='Different boxplots',color=color,sym='r+')\n",
    "axes[0].set_ylabel('values of temp')\n",
    "all_data['temp_ma'].plot(kind='box',ax=axes[1],subplots=True,title='Different boxplots',color=color,sym='r+')\n",
    "axes[1].set_ylabel('values of temp_ma')\n",
    "# plt.subplots_adjust(wspace=1,hspace=1)"
   ]
  },
  {
   "cell_type": "code",
   "execution_count": 253,
   "metadata": {},
   "outputs": [
    {
     "data": {
      "text/plain": [
       "Text(0, 0.5, 'values of humid')"
      ]
     },
     "execution_count": 253,
     "metadata": {},
     "output_type": "execute_result"
    },
    {
     "data": {
      "image/png": "[encoded data removed]",
      "text/plain": [
       "<Figure size 720x432 with 2 Axes>"
      ]
     },
     "metadata": {
      "needs_background": "light"
     },
     "output_type": "display_data"
    }
   ],
   "source": [
    "fig,axes = plt.subplots(1,2,figsize=(10,6))\n",
    "color = dict(boxes='DarkGreen', whiskers='DarkOrange', medians='DarkBlue', caps='Red')\n",
    "\n",
    "all_data['RTD_temp'].plot(kind='box',ax=axes[0],subplots=True,title='Different boxplots',color=color,sym='r+')\n",
    "axes[0].set_ylabel('values of temp')\n",
    "all_data['RTD_temp_ma'].plot(kind='box',ax=axes[1],subplots=True,title='Different boxplots',color=color,sym='r+')\n",
    "axes[1].set_ylabel('values of humid')\n",
    "# plt.subplots_adjust(wspace=1,hspace=1)"
   ]
  },
  {
   "cell_type": "code",
   "execution_count": 254,
   "metadata": {},
   "outputs": [
    {
     "data": {
      "text/plain": [
       "Text(0, 0.5, 'values of humid')"
      ]
     },
     "execution_count": 254,
     "metadata": {},
     "output_type": "execute_result"
    },
    {
     "data": {
      "image/png": "[encoded data removed]",
      "text/plain": [
       "<Figure size 720x432 with 2 Axes>"
      ]
     },
     "metadata": {
      "needs_background": "light"
     },
     "output_type": "display_data"
    }
   ],
   "source": [
    "fig,axes = plt.subplots(1,2,figsize=(10,6))\n",
    "color = dict(boxes='DarkGreen', whiskers='DarkOrange', medians='DarkBlue', caps='Red')\n",
    "\n",
    "all_data['humid'].plot(kind='box',ax=axes[0],subplots=True,title='Different boxplots',color=color,sym='r+')\n",
    "axes[0].set_ylabel('values of temp')\n",
    "all_data['humid_ma'].plot(kind='box',ax=axes[1],subplots=True,title='Different boxplots',color=color,sym='r+')\n",
    "axes[1].set_ylabel('values of humid')\n",
    "# plt.subplots_adjust(wspace=1,hspace=1)"
   ]
  },
  {
   "cell_type": "code",
   "execution_count": 255,
   "metadata": {},
   "outputs": [
    {
     "data": {
      "text/plain": [
       "Text(0, 0.5, 'values of humid')"
      ]
     },
     "execution_count": 255,
     "metadata": {},
     "output_type": "execute_result"
    },
    {
     "data": {
      "image/png": "[encoded data removed]",
      "text/plain": [
       "<Figure size 720x432 with 2 Axes>"
      ]
     },
     "metadata": {
      "needs_background": "light"
     },
     "output_type": "display_data"
    }
   ],
   "source": [
    "fig,axes = plt.subplots(1,2,figsize=(10,6))\n",
    "color = dict(boxes='DarkGreen', whiskers='DarkOrange', medians='DarkBlue', caps='Red')\n",
    "\n",
    "all_data['lux'].plot(kind='box',ax=axes[0],subplots=True,title='Different boxplots',color=color,sym='r+')\n",
    "axes[0].set_ylabel('values of temp')\n",
    "all_data['lux_ma'].plot(kind='box',ax=axes[1],subplots=True,title='Different boxplots',color=color,sym='r+')\n",
    "axes[1].set_ylabel('values of humid')\n",
    "# plt.subplots_adjust(wspace=1,hspace=1)"
   ]
  },
  {
   "cell_type": "code",
   "execution_count": 256,
   "metadata": {},
   "outputs": [
    {
     "data": {
      "image/png": "[encoded data removed]",
      "text/plain": [
       "<Figure size 1152x504 with 4 Axes>"
      ]
     },
     "metadata": {
      "needs_background": "light"
     },
     "output_type": "display_data"
    }
   ],
   "source": [
    "fig,axes = plt.subplots(1,4,figsize=(16,7))\n",
    "color = dict(boxes='DarkGreen', whiskers='DarkOrange', medians='DarkBlue', caps='Red')\n",
    "\n",
    "all_data['temp'].plot(kind='box',ax=axes[0],subplots=True,title='Different boxplots',color=color,sym='r+')\n",
    "axes[0].set_ylabel('values of temp')\n",
    "all_data['RTD_temp'].plot(kind='box',ax=axes[1],subplots=True,title='Different boxplots',color=color,sym='r+')\n",
    "axes[1].set_ylabel('values of RTD_temp')\n",
    "all_data['humid'].plot(kind='box',ax=axes[2],subplots=True,title='Different boxplots',color=color,sym='r+')\n",
    "axes[2].set_ylabel('values of humid')\n",
    "all_data['lux'].plot(kind='box',ax=axes[3],subplots=True,title='Different boxplots',color=color,sym='r+')\n",
    "axes[3].set_ylabel('values of lux')\n",
    "plt.subplots_adjust(wspace=0.4)"
   ]
  },
  {
   "cell_type": "code",
   "execution_count": 257,
   "metadata": {},
   "outputs": [
    {
     "data": {
      "text/html": [
       "<div>\n",
       "<style scoped>\n",
       "    .dataframe tbody tr th:only-of-type {\n",
       "        vertical-align: middle;\n",
       "    }\n",
       "\n",
       "    .dataframe tbody tr th {\n",
       "        vertical-align: top;\n",
       "    }\n",
       "\n",
       "    .dataframe thead th {\n",
       "        text-align: right;\n",
       "    }\n",
       "</style>\n",
       "<table border=\"1\" class=\"dataframe\">\n",
       "  <thead>\n",
       "    <tr style=\"text-align: right;\">\n",
       "      <th></th>\n",
       "      <th>temp</th>\n",
       "      <th>humid</th>\n",
       "      <th>RTD_temp</th>\n",
       "      <th>lux</th>\n",
       "      <th>temp_ma</th>\n",
       "      <th>humid_ma</th>\n",
       "      <th>RTD_temp_ma</th>\n",
       "      <th>lux_ma</th>\n",
       "    </tr>\n",
       "  </thead>\n",
       "  <tbody>\n",
       "    <tr>\n",
       "      <th>0</th>\n",
       "      <td>21</td>\n",
       "      <td>73.0</td>\n",
       "      <td>23</td>\n",
       "      <td>487</td>\n",
       "      <td>NaN</td>\n",
       "      <td>NaN</td>\n",
       "      <td>NaN</td>\n",
       "      <td>NaN</td>\n",
       "    </tr>\n",
       "    <tr>\n",
       "      <th>1</th>\n",
       "      <td>21</td>\n",
       "      <td>73.0</td>\n",
       "      <td>23</td>\n",
       "      <td>488</td>\n",
       "      <td>NaN</td>\n",
       "      <td>NaN</td>\n",
       "      <td>NaN</td>\n",
       "      <td>NaN</td>\n",
       "    </tr>\n",
       "    <tr>\n",
       "      <th>2</th>\n",
       "      <td>21</td>\n",
       "      <td>73.0</td>\n",
       "      <td>23</td>\n",
       "      <td>488</td>\n",
       "      <td>NaN</td>\n",
       "      <td>NaN</td>\n",
       "      <td>NaN</td>\n",
       "      <td>NaN</td>\n",
       "    </tr>\n",
       "    <tr>\n",
       "      <th>3</th>\n",
       "      <td>21</td>\n",
       "      <td>73.0</td>\n",
       "      <td>23</td>\n",
       "      <td>488</td>\n",
       "      <td>21.0</td>\n",
       "      <td>73.0</td>\n",
       "      <td>23.0</td>\n",
       "      <td>487.75</td>\n",
       "    </tr>\n",
       "    <tr>\n",
       "      <th>4</th>\n",
       "      <td>21</td>\n",
       "      <td>73.0</td>\n",
       "      <td>23</td>\n",
       "      <td>488</td>\n",
       "      <td>21.0</td>\n",
       "      <td>73.0</td>\n",
       "      <td>23.0</td>\n",
       "      <td>488.00</td>\n",
       "    </tr>\n",
       "  </tbody>\n",
       "</table>\n",
       "</div>"
      ],
      "text/plain": [
       "   temp  humid  RTD_temp  lux  temp_ma  humid_ma  RTD_temp_ma  lux_ma\n",
       "0    21   73.0        23  487      NaN       NaN          NaN     NaN\n",
       "1    21   73.0        23  488      NaN       NaN          NaN     NaN\n",
       "2    21   73.0        23  488      NaN       NaN          NaN     NaN\n",
       "3    21   73.0        23  488     21.0      73.0         23.0  487.75\n",
       "4    21   73.0        23  488     21.0      73.0         23.0  488.00"
      ]
     },
     "execution_count": 257,
     "metadata": {},
     "output_type": "execute_result"
    }
   ],
   "source": [
    "n = all_data.iloc[:,1:]\n",
    "n.head()"
   ]
  },
  {
   "cell_type": "code",
   "execution_count": 240,
   "metadata": {
    "scrolled": false
   },
   "outputs": [
    {
     "data": {
      "text/html": [
       "<style  type=\"text/css\" >\n",
       "    #T_104d36c8_1fb1_11ea_bfd0_4d599fe431c1row0_col0 {\n",
       "            background-color:  #084081;\n",
       "            color:  #f1f1f1;\n",
       "        }    #T_104d36c8_1fb1_11ea_bfd0_4d599fe431c1row0_col1 {\n",
       "            background-color:  #f7fcf0;\n",
       "            color:  #000000;\n",
       "        }    #T_104d36c8_1fb1_11ea_bfd0_4d599fe431c1row0_col2 {\n",
       "            background-color:  #084a8c;\n",
       "            color:  #f1f1f1;\n",
       "        }    #T_104d36c8_1fb1_11ea_bfd0_4d599fe431c1row0_col3 {\n",
       "            background-color:  #0867ab;\n",
       "            color:  #f1f1f1;\n",
       "        }    #T_104d36c8_1fb1_11ea_bfd0_4d599fe431c1row1_col0 {\n",
       "            background-color:  #f7fcf0;\n",
       "            color:  #000000;\n",
       "        }    #T_104d36c8_1fb1_11ea_bfd0_4d599fe431c1row1_col1 {\n",
       "            background-color:  #084081;\n",
       "            color:  #f1f1f1;\n",
       "        }    #T_104d36c8_1fb1_11ea_bfd0_4d599fe431c1row1_col2 {\n",
       "            background-color:  #f7fcf0;\n",
       "            color:  #000000;\n",
       "        }    #T_104d36c8_1fb1_11ea_bfd0_4d599fe431c1row1_col3 {\n",
       "            background-color:  #f7fcf0;\n",
       "            color:  #000000;\n",
       "        }    #T_104d36c8_1fb1_11ea_bfd0_4d599fe431c1row2_col0 {\n",
       "            background-color:  #084a8c;\n",
       "            color:  #f1f1f1;\n",
       "        }    #T_104d36c8_1fb1_11ea_bfd0_4d599fe431c1row2_col1 {\n",
       "            background-color:  #f5fbee;\n",
       "            color:  #000000;\n",
       "        }    #T_104d36c8_1fb1_11ea_bfd0_4d599fe431c1row2_col2 {\n",
       "            background-color:  #084081;\n",
       "            color:  #f1f1f1;\n",
       "        }    #T_104d36c8_1fb1_11ea_bfd0_4d599fe431c1row2_col3 {\n",
       "            background-color:  #085395;\n",
       "            color:  #f1f1f1;\n",
       "        }    #T_104d36c8_1fb1_11ea_bfd0_4d599fe431c1row3_col0 {\n",
       "            background-color:  #0864a8;\n",
       "            color:  #f1f1f1;\n",
       "        }    #T_104d36c8_1fb1_11ea_bfd0_4d599fe431c1row3_col1 {\n",
       "            background-color:  #eaf7e4;\n",
       "            color:  #000000;\n",
       "        }    #T_104d36c8_1fb1_11ea_bfd0_4d599fe431c1row3_col2 {\n",
       "            background-color:  #085294;\n",
       "            color:  #f1f1f1;\n",
       "        }    #T_104d36c8_1fb1_11ea_bfd0_4d599fe431c1row3_col3 {\n",
       "            background-color:  #084081;\n",
       "            color:  #f1f1f1;\n",
       "        }</style><table id=\"T_104d36c8_1fb1_11ea_bfd0_4d599fe431c1\" ><thead>    <tr>        <th class=\"blank level0\" ></th>        <th class=\"col_heading level0 col0\" >temp</th>        <th class=\"col_heading level0 col1\" >humid</th>        <th class=\"col_heading level0 col2\" >RTD_temp</th>        <th class=\"col_heading level0 col3\" >lux</th>    </tr></thead><tbody>\n",
       "                <tr>\n",
       "                        <th id=\"T_104d36c8_1fb1_11ea_bfd0_4d599fe431c1level0_row0\" class=\"row_heading level0 row0\" >temp</th>\n",
       "                        <td id=\"T_104d36c8_1fb1_11ea_bfd0_4d599fe431c1row0_col0\" class=\"data row0 col0\" >1</td>\n",
       "                        <td id=\"T_104d36c8_1fb1_11ea_bfd0_4d599fe431c1row0_col1\" class=\"data row0 col1\" >-0.886426</td>\n",
       "                        <td id=\"T_104d36c8_1fb1_11ea_bfd0_4d599fe431c1row0_col2\" class=\"data row0 col2\" >0.940273</td>\n",
       "                        <td id=\"T_104d36c8_1fb1_11ea_bfd0_4d599fe431c1row0_col3\" class=\"data row0 col3\" >0.78223</td>\n",
       "            </tr>\n",
       "            <tr>\n",
       "                        <th id=\"T_104d36c8_1fb1_11ea_bfd0_4d599fe431c1level0_row1\" class=\"row_heading level0 row1\" >humid</th>\n",
       "                        <td id=\"T_104d36c8_1fb1_11ea_bfd0_4d599fe431c1row1_col0\" class=\"data row1 col0\" >-0.886426</td>\n",
       "                        <td id=\"T_104d36c8_1fb1_11ea_bfd0_4d599fe431c1row1_col1\" class=\"data row1 col1\" >1</td>\n",
       "                        <td id=\"T_104d36c8_1fb1_11ea_bfd0_4d599fe431c1row1_col2\" class=\"data row1 col2\" >-0.862877</td>\n",
       "                        <td id=\"T_104d36c8_1fb1_11ea_bfd0_4d599fe431c1row1_col3\" class=\"data row1 col3\" >-0.747235</td>\n",
       "            </tr>\n",
       "            <tr>\n",
       "                        <th id=\"T_104d36c8_1fb1_11ea_bfd0_4d599fe431c1level0_row2\" class=\"row_heading level0 row2\" >RTD_temp</th>\n",
       "                        <td id=\"T_104d36c8_1fb1_11ea_bfd0_4d599fe431c1row2_col0\" class=\"data row2 col0\" >0.940273</td>\n",
       "                        <td id=\"T_104d36c8_1fb1_11ea_bfd0_4d599fe431c1row2_col1\" class=\"data row2 col1\" >-0.862877</td>\n",
       "                        <td id=\"T_104d36c8_1fb1_11ea_bfd0_4d599fe431c1row2_col2\" class=\"data row2 col2\" >1</td>\n",
       "                        <td id=\"T_104d36c8_1fb1_11ea_bfd0_4d599fe431c1row2_col3\" class=\"data row2 col3\" >0.896872</td>\n",
       "            </tr>\n",
       "            <tr>\n",
       "                        <th id=\"T_104d36c8_1fb1_11ea_bfd0_4d599fe431c1level0_row3\" class=\"row_heading level0 row3\" >lux</th>\n",
       "                        <td id=\"T_104d36c8_1fb1_11ea_bfd0_4d599fe431c1row3_col0\" class=\"data row3 col0\" >0.78223</td>\n",
       "                        <td id=\"T_104d36c8_1fb1_11ea_bfd0_4d599fe431c1row3_col1\" class=\"data row3 col1\" >-0.747235</td>\n",
       "                        <td id=\"T_104d36c8_1fb1_11ea_bfd0_4d599fe431c1row3_col2\" class=\"data row3 col2\" >0.896872</td>\n",
       "                        <td id=\"T_104d36c8_1fb1_11ea_bfd0_4d599fe431c1row3_col3\" class=\"data row3 col3\" >1</td>\n",
       "            </tr>\n",
       "    </tbody></table>"
      ],
      "text/plain": [
       "<pandas.io.formats.style.Styler at 0x7f52212a13c8>"
      ]
     },
     "execution_count": 240,
     "metadata": {},
     "output_type": "execute_result"
    }
   ],
   "source": [
    "corr = n.corr()\n",
    "corr.style.background_gradient(cmap='GnBu')"
   ]
  },
  {
   "cell_type": "code",
   "execution_count": null,
   "metadata": {},
   "outputs": [],
   "source": []
  },
  {
   "cell_type": "code",
   "execution_count": null,
   "metadata": {},
   "outputs": [],
   "source": []
  },
  {
   "cell_type": "markdown",
   "metadata": {},
   "source": [
    "# 12/17VVVVVVVVVVVVVVVVVVVVVVVVVV "
   ]
  },
  {
   "cell_type": "code",
   "execution_count": 476,
   "metadata": {
    "scrolled": false
   },
   "outputs": [
    {
     "name": "stdout",
     "output_type": "stream",
     "text": [
      "145214\n"
     ]
    },
    {
     "data": {
      "text/html": [
       "<div>\n",
       "<style scoped>\n",
       "    .dataframe tbody tr th:only-of-type {\n",
       "        vertical-align: middle;\n",
       "    }\n",
       "\n",
       "    .dataframe tbody tr th {\n",
       "        vertical-align: top;\n",
       "    }\n",
       "\n",
       "    .dataframe thead th {\n",
       "        text-align: right;\n",
       "    }\n",
       "</style>\n",
       "<table border=\"1\" class=\"dataframe\">\n",
       "  <thead>\n",
       "    <tr style=\"text-align: right;\">\n",
       "      <th></th>\n",
       "      <th>time</th>\n",
       "      <th>temp</th>\n",
       "      <th>humid</th>\n",
       "      <th>RTD_temp</th>\n",
       "      <th>lux</th>\n",
       "    </tr>\n",
       "  </thead>\n",
       "  <tbody>\n",
       "    <tr>\n",
       "      <th>count</th>\n",
       "      <td>1.452140e+05</td>\n",
       "      <td>145214.000000</td>\n",
       "      <td>145214.000000</td>\n",
       "      <td>145214.000000</td>\n",
       "      <td>145214.000000</td>\n",
       "    </tr>\n",
       "    <tr>\n",
       "      <th>mean</th>\n",
       "      <td>1.575297e+09</td>\n",
       "      <td>23.664688</td>\n",
       "      <td>61.166726</td>\n",
       "      <td>25.450576</td>\n",
       "      <td>1899.127446</td>\n",
       "    </tr>\n",
       "    <tr>\n",
       "      <th>std</th>\n",
       "      <td>1.821601e+05</td>\n",
       "      <td>4.749567</td>\n",
       "      <td>11.377026</td>\n",
       "      <td>6.662559</td>\n",
       "      <td>4658.624795</td>\n",
       "    </tr>\n",
       "    <tr>\n",
       "      <th>min</th>\n",
       "      <td>1.574986e+09</td>\n",
       "      <td>18.000000</td>\n",
       "      <td>17.000000</td>\n",
       "      <td>20.000000</td>\n",
       "      <td>0.000000</td>\n",
       "    </tr>\n",
       "    <tr>\n",
       "      <th>25%</th>\n",
       "      <td>1.575138e+09</td>\n",
       "      <td>21.000000</td>\n",
       "      <td>57.000000</td>\n",
       "      <td>22.000000</td>\n",
       "      <td>0.000000</td>\n",
       "    </tr>\n",
       "    <tr>\n",
       "      <th>50%</th>\n",
       "      <td>1.575293e+09</td>\n",
       "      <td>22.000000</td>\n",
       "      <td>64.000000</td>\n",
       "      <td>23.000000</td>\n",
       "      <td>0.000000</td>\n",
       "    </tr>\n",
       "    <tr>\n",
       "      <th>75%</th>\n",
       "      <td>1.575455e+09</td>\n",
       "      <td>24.000000</td>\n",
       "      <td>69.000000</td>\n",
       "      <td>26.000000</td>\n",
       "      <td>1034.000000</td>\n",
       "    </tr>\n",
       "    <tr>\n",
       "      <th>max</th>\n",
       "      <td>1.575615e+09</td>\n",
       "      <td>47.000000</td>\n",
       "      <td>78.000000</td>\n",
       "      <td>55.000000</td>\n",
       "      <td>25311.000000</td>\n",
       "    </tr>\n",
       "  </tbody>\n",
       "</table>\n",
       "</div>"
      ],
      "text/plain": [
       "               time           temp          humid       RTD_temp  \\\n",
       "count  1.452140e+05  145214.000000  145214.000000  145214.000000   \n",
       "mean   1.575297e+09      23.664688      61.166726      25.450576   \n",
       "std    1.821601e+05       4.749567      11.377026       6.662559   \n",
       "min    1.574986e+09      18.000000      17.000000      20.000000   \n",
       "25%    1.575138e+09      21.000000      57.000000      22.000000   \n",
       "50%    1.575293e+09      22.000000      64.000000      23.000000   \n",
       "75%    1.575455e+09      24.000000      69.000000      26.000000   \n",
       "max    1.575615e+09      47.000000      78.000000      55.000000   \n",
       "\n",
       "                 lux  \n",
       "count  145214.000000  \n",
       "mean     1899.127446  \n",
       "std      4658.624795  \n",
       "min         0.000000  \n",
       "25%         0.000000  \n",
       "50%         0.000000  \n",
       "75%      1034.000000  \n",
       "max     25311.000000  "
      ]
     },
     "execution_count": 476,
     "metadata": {},
     "output_type": "execute_result"
    }
   ],
   "source": [
    "import pandas as pd\n",
    "all_data2 = pd.read_csv('all_new.csv')\n",
    "\n",
    "\n",
    "all_data2 = all_data2.drop(['Unnamed: 0'], axis=1)\n",
    "all_data2 = all_data2.iloc[:-800,:]\n",
    "\n",
    "print(len(all_data))\n",
    "all_data2.describe()"
   ]
  },
  {
   "cell_type": "code",
   "execution_count": 477,
   "metadata": {},
   "outputs": [],
   "source": [
    "all_data2[\"curtain\"] = 0"
   ]
  },
  {
   "cell_type": "code",
   "execution_count": 478,
   "metadata": {},
   "outputs": [
    {
     "data": {
      "text/html": [
       "<div>\n",
       "<style scoped>\n",
       "    .dataframe tbody tr th:only-of-type {\n",
       "        vertical-align: middle;\n",
       "    }\n",
       "\n",
       "    .dataframe tbody tr th {\n",
       "        vertical-align: top;\n",
       "    }\n",
       "\n",
       "    .dataframe thead th {\n",
       "        text-align: right;\n",
       "    }\n",
       "</style>\n",
       "<table border=\"1\" class=\"dataframe\">\n",
       "  <thead>\n",
       "    <tr style=\"text-align: right;\">\n",
       "      <th></th>\n",
       "      <th>time</th>\n",
       "      <th>temp</th>\n",
       "      <th>humid</th>\n",
       "      <th>RTD_temp</th>\n",
       "      <th>lux</th>\n",
       "      <th>curtain</th>\n",
       "    </tr>\n",
       "  </thead>\n",
       "  <tbody>\n",
       "    <tr>\n",
       "      <th>0</th>\n",
       "      <td>1574985604</td>\n",
       "      <td>21</td>\n",
       "      <td>73.0</td>\n",
       "      <td>23</td>\n",
       "      <td>487</td>\n",
       "      <td>0</td>\n",
       "    </tr>\n",
       "    <tr>\n",
       "      <th>1</th>\n",
       "      <td>1574985607</td>\n",
       "      <td>21</td>\n",
       "      <td>73.0</td>\n",
       "      <td>23</td>\n",
       "      <td>488</td>\n",
       "      <td>0</td>\n",
       "    </tr>\n",
       "    <tr>\n",
       "      <th>2</th>\n",
       "      <td>1574985614</td>\n",
       "      <td>21</td>\n",
       "      <td>73.0</td>\n",
       "      <td>23</td>\n",
       "      <td>488</td>\n",
       "      <td>0</td>\n",
       "    </tr>\n",
       "    <tr>\n",
       "      <th>3</th>\n",
       "      <td>1574985622</td>\n",
       "      <td>21</td>\n",
       "      <td>73.0</td>\n",
       "      <td>23</td>\n",
       "      <td>488</td>\n",
       "      <td>0</td>\n",
       "    </tr>\n",
       "    <tr>\n",
       "      <th>4</th>\n",
       "      <td>1574985625</td>\n",
       "      <td>21</td>\n",
       "      <td>73.0</td>\n",
       "      <td>23</td>\n",
       "      <td>488</td>\n",
       "      <td>0</td>\n",
       "    </tr>\n",
       "  </tbody>\n",
       "</table>\n",
       "</div>"
      ],
      "text/plain": [
       "         time  temp  humid  RTD_temp  lux  curtain\n",
       "0  1574985604    21   73.0        23  487        0\n",
       "1  1574985607    21   73.0        23  488        0\n",
       "2  1574985614    21   73.0        23  488        0\n",
       "3  1574985622    21   73.0        23  488        0\n",
       "4  1574985625    21   73.0        23  488        0"
      ]
     },
     "execution_count": 478,
     "metadata": {},
     "output_type": "execute_result"
    }
   ],
   "source": [
    "all_data2.head()"
   ]
  },
  {
   "cell_type": "code",
   "execution_count": 479,
   "metadata": {},
   "outputs": [
    {
     "data": {
      "text/plain": [
       "145214"
      ]
     },
     "execution_count": 479,
     "metadata": {},
     "output_type": "execute_result"
    }
   ],
   "source": [
    "len(all_data2)"
   ]
  },
  {
   "cell_type": "markdown",
   "metadata": {},
   "source": [
    "# Curtain Up = 0, Down = 1"
   ]
  },
  {
   "cell_type": "code",
   "execution_count": 480,
   "metadata": {},
   "outputs": [],
   "source": [
    "mask = all_data2[\"time\"].between(1574951400,1575032400)"
   ]
  },
  {
   "cell_type": "code",
   "execution_count": 481,
   "metadata": {
    "scrolled": true
   },
   "outputs": [
    {
     "data": {
      "text/html": [
       "<div>\n",
       "<style scoped>\n",
       "    .dataframe tbody tr th:only-of-type {\n",
       "        vertical-align: middle;\n",
       "    }\n",
       "\n",
       "    .dataframe tbody tr th {\n",
       "        vertical-align: top;\n",
       "    }\n",
       "\n",
       "    .dataframe thead th {\n",
       "        text-align: right;\n",
       "    }\n",
       "</style>\n",
       "<table border=\"1\" class=\"dataframe\">\n",
       "  <thead>\n",
       "    <tr style=\"text-align: right;\">\n",
       "      <th></th>\n",
       "      <th>time</th>\n",
       "      <th>temp</th>\n",
       "      <th>humid</th>\n",
       "      <th>RTD_temp</th>\n",
       "      <th>lux</th>\n",
       "      <th>curtain</th>\n",
       "    </tr>\n",
       "  </thead>\n",
       "  <tbody>\n",
       "    <tr>\n",
       "      <th>10841</th>\n",
       "      <td>1575032375</td>\n",
       "      <td>22</td>\n",
       "      <td>70.0</td>\n",
       "      <td>24</td>\n",
       "      <td>0</td>\n",
       "      <td>0</td>\n",
       "    </tr>\n",
       "    <tr>\n",
       "      <th>10842</th>\n",
       "      <td>1575032392</td>\n",
       "      <td>22</td>\n",
       "      <td>70.0</td>\n",
       "      <td>24</td>\n",
       "      <td>0</td>\n",
       "      <td>0</td>\n",
       "    </tr>\n",
       "    <tr>\n",
       "      <th>10843</th>\n",
       "      <td>1575032398</td>\n",
       "      <td>22</td>\n",
       "      <td>70.0</td>\n",
       "      <td>24</td>\n",
       "      <td>0</td>\n",
       "      <td>0</td>\n",
       "    </tr>\n",
       "  </tbody>\n",
       "</table>\n",
       "</div>"
      ],
      "text/plain": [
       "             time  temp  humid  RTD_temp  lux  curtain\n",
       "10841  1575032375    22   70.0        24    0        0\n",
       "10842  1575032392    22   70.0        24    0        0\n",
       "10843  1575032398    22   70.0        24    0        0"
      ]
     },
     "execution_count": 481,
     "metadata": {},
     "output_type": "execute_result"
    }
   ],
   "source": [
    "all_data2[mask].tail(3)"
   ]
  },
  {
   "cell_type": "code",
   "execution_count": 482,
   "metadata": {},
   "outputs": [],
   "source": [
    "all_data2.iloc[0:10843,-1] = 1"
   ]
  },
  {
   "cell_type": "code",
   "execution_count": 483,
   "metadata": {},
   "outputs": [],
   "source": [
    "mask2 = all_data2[\"time\"].between(1575280800,1575388800)"
   ]
  },
  {
   "cell_type": "code",
   "execution_count": 484,
   "metadata": {},
   "outputs": [
    {
     "data": {
      "text/html": [
       "<div>\n",
       "<style scoped>\n",
       "    .dataframe tbody tr th:only-of-type {\n",
       "        vertical-align: middle;\n",
       "    }\n",
       "\n",
       "    .dataframe tbody tr th {\n",
       "        vertical-align: top;\n",
       "    }\n",
       "\n",
       "    .dataframe thead th {\n",
       "        text-align: right;\n",
       "    }\n",
       "</style>\n",
       "<table border=\"1\" class=\"dataframe\">\n",
       "  <thead>\n",
       "    <tr style=\"text-align: right;\">\n",
       "      <th></th>\n",
       "      <th>time</th>\n",
       "      <th>temp</th>\n",
       "      <th>humid</th>\n",
       "      <th>RTD_temp</th>\n",
       "      <th>lux</th>\n",
       "      <th>curtain</th>\n",
       "    </tr>\n",
       "  </thead>\n",
       "  <tbody>\n",
       "    <tr>\n",
       "      <th>69982</th>\n",
       "      <td>1575280800</td>\n",
       "      <td>22</td>\n",
       "      <td>64.0</td>\n",
       "      <td>22</td>\n",
       "      <td>0</td>\n",
       "      <td>0</td>\n",
       "    </tr>\n",
       "    <tr>\n",
       "      <th>69983</th>\n",
       "      <td>1575280806</td>\n",
       "      <td>22</td>\n",
       "      <td>64.0</td>\n",
       "      <td>22</td>\n",
       "      <td>0</td>\n",
       "      <td>0</td>\n",
       "    </tr>\n",
       "    <tr>\n",
       "      <th>69984</th>\n",
       "      <td>1575280809</td>\n",
       "      <td>21</td>\n",
       "      <td>63.0</td>\n",
       "      <td>22</td>\n",
       "      <td>0</td>\n",
       "      <td>0</td>\n",
       "    </tr>\n",
       "  </tbody>\n",
       "</table>\n",
       "</div>"
      ],
      "text/plain": [
       "             time  temp  humid  RTD_temp  lux  curtain\n",
       "69982  1575280800    22   64.0        22    0        0\n",
       "69983  1575280806    22   64.0        22    0        0\n",
       "69984  1575280809    21   63.0        22    0        0"
      ]
     },
     "execution_count": 484,
     "metadata": {},
     "output_type": "execute_result"
    }
   ],
   "source": [
    "all_data2[mask2].head(3)"
   ]
  },
  {
   "cell_type": "code",
   "execution_count": 485,
   "metadata": {},
   "outputs": [
    {
     "data": {
      "text/html": [
       "<div>\n",
       "<style scoped>\n",
       "    .dataframe tbody tr th:only-of-type {\n",
       "        vertical-align: middle;\n",
       "    }\n",
       "\n",
       "    .dataframe tbody tr th {\n",
       "        vertical-align: top;\n",
       "    }\n",
       "\n",
       "    .dataframe thead th {\n",
       "        text-align: right;\n",
       "    }\n",
       "</style>\n",
       "<table border=\"1\" class=\"dataframe\">\n",
       "  <thead>\n",
       "    <tr style=\"text-align: right;\">\n",
       "      <th></th>\n",
       "      <th>time</th>\n",
       "      <th>temp</th>\n",
       "      <th>humid</th>\n",
       "      <th>RTD_temp</th>\n",
       "      <th>lux</th>\n",
       "      <th>curtain</th>\n",
       "    </tr>\n",
       "  </thead>\n",
       "  <tbody>\n",
       "    <tr>\n",
       "      <th>94046</th>\n",
       "      <td>1575388793</td>\n",
       "      <td>22</td>\n",
       "      <td>58.0</td>\n",
       "      <td>22</td>\n",
       "      <td>0</td>\n",
       "      <td>0</td>\n",
       "    </tr>\n",
       "    <tr>\n",
       "      <th>94047</th>\n",
       "      <td>1575388796</td>\n",
       "      <td>22</td>\n",
       "      <td>58.0</td>\n",
       "      <td>22</td>\n",
       "      <td>0</td>\n",
       "      <td>0</td>\n",
       "    </tr>\n",
       "    <tr>\n",
       "      <th>94048</th>\n",
       "      <td>1575388799</td>\n",
       "      <td>22</td>\n",
       "      <td>58.0</td>\n",
       "      <td>22</td>\n",
       "      <td>0</td>\n",
       "      <td>0</td>\n",
       "    </tr>\n",
       "  </tbody>\n",
       "</table>\n",
       "</div>"
      ],
      "text/plain": [
       "             time  temp  humid  RTD_temp  lux  curtain\n",
       "94046  1575388793    22   58.0        22    0        0\n",
       "94047  1575388796    22   58.0        22    0        0\n",
       "94048  1575388799    22   58.0        22    0        0"
      ]
     },
     "execution_count": 485,
     "metadata": {},
     "output_type": "execute_result"
    }
   ],
   "source": [
    "all_data2[mask2].tail(3)"
   ]
  },
  {
   "cell_type": "code",
   "execution_count": 486,
   "metadata": {},
   "outputs": [],
   "source": [
    "all_data2.iloc[69982:94048,-1] = 1"
   ]
  },
  {
   "cell_type": "code",
   "execution_count": 491,
   "metadata": {},
   "outputs": [],
   "source": [
    "# Plot"
   ]
  },
  {
   "cell_type": "code",
   "execution_count": 487,
   "metadata": {},
   "outputs": [
    {
     "data": {
      "image/png": "[encoded data removed]",
      "text/plain": [
       "<Figure size 1152x576 with 2 Axes>"
      ]
     },
     "metadata": {
      "needs_background": "light"
     },
     "output_type": "display_data"
    }
   ],
   "source": [
    "import numpy as np\n",
    "import matplotlib.pyplot as plt\n",
    " \n",
    "t = all_data2['time']\n",
    "data1 = all_data2['temp']\n",
    "data2 = all_data2['RTD_temp']\n",
    "data3 = all_data2[\"curtain\"]\n",
    "\n",
    "fig, ax1 = plt.subplots(figsize = (16,8))\n",
    "\n",
    "color = 'tab:green'\n",
    "ax1.set_xlabel('time')\n",
    "\n",
    "ax1.set_ylabel('temp')\n",
    "ax1.plot(t, data1, color=color)\n",
    "ax1.plot(t, data2, color='orange')\n",
    "ax1.tick_params(axis='y', labelcolor=color)\n",
    "\n",
    "ax2 = ax1.twinx()  # instantiate a second axes that shares the same x-axis\n",
    "\n",
    "color = 'tab:blue'\n",
    "ax2.set_ylabel('curtain')  # we already handled the x-label with ax1\n",
    "ax2.plot(t, data3, color=color)\n",
    "ax2.tick_params(axis='y', labelcolor=color)\n",
    "\n",
    "fig.tight_layout()  # otherwise the right y-label is slightly clipped\n",
    "\n",
    "plt.show()"
   ]
  },
  {
   "cell_type": "markdown",
   "metadata": {},
   "source": [
    "# Timestamp to Datatime"
   ]
  },
  {
   "cell_type": "code",
   "execution_count": 488,
   "metadata": {},
   "outputs": [],
   "source": [
    "all_data2['time'] = pd.to_datetime(all_data2['time'], unit = 's')"
   ]
  },
  {
   "cell_type": "markdown",
   "metadata": {},
   "source": [
    "# Moving Average Plot"
   ]
  },
  {
   "cell_type": "code",
   "execution_count": 489,
   "metadata": {},
   "outputs": [],
   "source": [
    "all_data2['temp_ma'] = all_data2['temp'].rolling(window=4).mean()\n",
    "all_data2['humid_ma'] = all_data2['humid'].rolling(window=4).mean()\n",
    "all_data2['RTD_temp_ma'] = all_data2['RTD_temp'].rolling(window=4).mean()\n",
    "all_data2['lux_ma'] = all_data2['lux'].rolling(window=4).mean()"
   ]
  },
  {
   "cell_type": "code",
   "execution_count": 490,
   "metadata": {},
   "outputs": [
    {
     "data": {
      "image/png": "[encoded data removed]",
      "text/plain": [
       "<Figure size 1152x576 with 2 Axes>"
      ]
     },
     "metadata": {
      "needs_background": "light"
     },
     "output_type": "display_data"
    }
   ],
   "source": [
    "import numpy as np\n",
    "import matplotlib.pyplot as plt\n",
    " \n",
    "t = all_data2['time']\n",
    "data1 = all_data2['temp_ma']\n",
    "data2 = all_data2['RTD_temp_ma']\n",
    "data3 = all_data2[\"curtain\"]\n",
    "\n",
    "fig, ax1 = plt.subplots(figsize = (16,8))\n",
    "\n",
    "color = 'tab:green'\n",
    "ax1.set_xlabel('time')\n",
    "\n",
    "ax1.set_ylabel('temp')\n",
    "ax1.plot(t, data1, color=color)\n",
    "ax1.plot(t, data2, color='orange')\n",
    "ax1.tick_params(axis='y', labelcolor=color)\n",
    "\n",
    "ax2 = ax1.twinx()  # instantiate a second axes that shares the same x-axis\n",
    "\n",
    "color = 'tab:blue'\n",
    "ax2.set_ylabel('curtain')  # we already handled the x-label with ax1\n",
    "ax2.plot(t, data3, color=color)\n",
    "ax2.tick_params(axis='y', labelcolor=color)\n",
    "\n",
    "fig.tight_layout()  # otherwise the right y-label is slightly clipped\n",
    "\n",
    "plt.show()\n"
   ]
  },
  {
   "cell_type": "code",
   "execution_count": 713,
   "metadata": {},
   "outputs": [],
   "source": [
    "df = all_data2.diff(periods=10)"
   ]
  },
  {
   "cell_type": "code",
   "execution_count": 714,
   "metadata": {
    "scrolled": false
   },
   "outputs": [
    {
     "data": {
      "text/html": [
       "<div>\n",
       "<style scoped>\n",
       "    .dataframe tbody tr th:only-of-type {\n",
       "        vertical-align: middle;\n",
       "    }\n",
       "\n",
       "    .dataframe tbody tr th {\n",
       "        vertical-align: top;\n",
       "    }\n",
       "\n",
       "    .dataframe thead th {\n",
       "        text-align: right;\n",
       "    }\n",
       "</style>\n",
       "<table border=\"1\" class=\"dataframe\">\n",
       "  <thead>\n",
       "    <tr style=\"text-align: right;\">\n",
       "      <th></th>\n",
       "      <th>time</th>\n",
       "      <th>temp</th>\n",
       "      <th>humid</th>\n",
       "      <th>RTD_temp</th>\n",
       "      <th>lux</th>\n",
       "      <th>curtain</th>\n",
       "      <th>temp_ma</th>\n",
       "      <th>humid_ma</th>\n",
       "      <th>RTD_temp_ma</th>\n",
       "      <th>lux_ma</th>\n",
       "    </tr>\n",
       "  </thead>\n",
       "  <tbody>\n",
       "    <tr>\n",
       "      <th>0</th>\n",
       "      <td>NaT</td>\n",
       "      <td>NaN</td>\n",
       "      <td>NaN</td>\n",
       "      <td>NaN</td>\n",
       "      <td>NaN</td>\n",
       "      <td>NaN</td>\n",
       "      <td>NaN</td>\n",
       "      <td>NaN</td>\n",
       "      <td>NaN</td>\n",
       "      <td>NaN</td>\n",
       "    </tr>\n",
       "    <tr>\n",
       "      <th>1</th>\n",
       "      <td>NaT</td>\n",
       "      <td>NaN</td>\n",
       "      <td>NaN</td>\n",
       "      <td>NaN</td>\n",
       "      <td>NaN</td>\n",
       "      <td>NaN</td>\n",
       "      <td>NaN</td>\n",
       "      <td>NaN</td>\n",
       "      <td>NaN</td>\n",
       "      <td>NaN</td>\n",
       "    </tr>\n",
       "    <tr>\n",
       "      <th>2</th>\n",
       "      <td>NaT</td>\n",
       "      <td>NaN</td>\n",
       "      <td>NaN</td>\n",
       "      <td>NaN</td>\n",
       "      <td>NaN</td>\n",
       "      <td>NaN</td>\n",
       "      <td>NaN</td>\n",
       "      <td>NaN</td>\n",
       "      <td>NaN</td>\n",
       "      <td>NaN</td>\n",
       "    </tr>\n",
       "    <tr>\n",
       "      <th>3</th>\n",
       "      <td>NaT</td>\n",
       "      <td>NaN</td>\n",
       "      <td>NaN</td>\n",
       "      <td>NaN</td>\n",
       "      <td>NaN</td>\n",
       "      <td>NaN</td>\n",
       "      <td>NaN</td>\n",
       "      <td>NaN</td>\n",
       "      <td>NaN</td>\n",
       "      <td>NaN</td>\n",
       "    </tr>\n",
       "    <tr>\n",
       "      <th>4</th>\n",
       "      <td>NaT</td>\n",
       "      <td>NaN</td>\n",
       "      <td>NaN</td>\n",
       "      <td>NaN</td>\n",
       "      <td>NaN</td>\n",
       "      <td>NaN</td>\n",
       "      <td>NaN</td>\n",
       "      <td>NaN</td>\n",
       "      <td>NaN</td>\n",
       "      <td>NaN</td>\n",
       "    </tr>\n",
       "    <tr>\n",
       "      <th>5</th>\n",
       "      <td>NaT</td>\n",
       "      <td>NaN</td>\n",
       "      <td>NaN</td>\n",
       "      <td>NaN</td>\n",
       "      <td>NaN</td>\n",
       "      <td>NaN</td>\n",
       "      <td>NaN</td>\n",
       "      <td>NaN</td>\n",
       "      <td>NaN</td>\n",
       "      <td>NaN</td>\n",
       "    </tr>\n",
       "    <tr>\n",
       "      <th>6</th>\n",
       "      <td>NaT</td>\n",
       "      <td>NaN</td>\n",
       "      <td>NaN</td>\n",
       "      <td>NaN</td>\n",
       "      <td>NaN</td>\n",
       "      <td>NaN</td>\n",
       "      <td>NaN</td>\n",
       "      <td>NaN</td>\n",
       "      <td>NaN</td>\n",
       "      <td>NaN</td>\n",
       "    </tr>\n",
       "    <tr>\n",
       "      <th>7</th>\n",
       "      <td>NaT</td>\n",
       "      <td>NaN</td>\n",
       "      <td>NaN</td>\n",
       "      <td>NaN</td>\n",
       "      <td>NaN</td>\n",
       "      <td>NaN</td>\n",
       "      <td>NaN</td>\n",
       "      <td>NaN</td>\n",
       "      <td>NaN</td>\n",
       "      <td>NaN</td>\n",
       "    </tr>\n",
       "    <tr>\n",
       "      <th>8</th>\n",
       "      <td>NaT</td>\n",
       "      <td>NaN</td>\n",
       "      <td>NaN</td>\n",
       "      <td>NaN</td>\n",
       "      <td>NaN</td>\n",
       "      <td>NaN</td>\n",
       "      <td>NaN</td>\n",
       "      <td>NaN</td>\n",
       "      <td>NaN</td>\n",
       "      <td>NaN</td>\n",
       "    </tr>\n",
       "    <tr>\n",
       "      <th>9</th>\n",
       "      <td>NaT</td>\n",
       "      <td>NaN</td>\n",
       "      <td>NaN</td>\n",
       "      <td>NaN</td>\n",
       "      <td>NaN</td>\n",
       "      <td>NaN</td>\n",
       "      <td>NaN</td>\n",
       "      <td>NaN</td>\n",
       "      <td>NaN</td>\n",
       "      <td>NaN</td>\n",
       "    </tr>\n",
       "    <tr>\n",
       "      <th>10</th>\n",
       "      <td>00:00:43</td>\n",
       "      <td>0.0</td>\n",
       "      <td>0.0</td>\n",
       "      <td>0.0</td>\n",
       "      <td>4.0</td>\n",
       "      <td>0.0</td>\n",
       "      <td>NaN</td>\n",
       "      <td>NaN</td>\n",
       "      <td>NaN</td>\n",
       "      <td>NaN</td>\n",
       "    </tr>\n",
       "    <tr>\n",
       "      <th>11</th>\n",
       "      <td>00:00:46</td>\n",
       "      <td>0.0</td>\n",
       "      <td>0.0</td>\n",
       "      <td>0.0</td>\n",
       "      <td>4.0</td>\n",
       "      <td>0.0</td>\n",
       "      <td>NaN</td>\n",
       "      <td>NaN</td>\n",
       "      <td>NaN</td>\n",
       "      <td>NaN</td>\n",
       "    </tr>\n",
       "    <tr>\n",
       "      <th>12</th>\n",
       "      <td>00:00:45</td>\n",
       "      <td>0.0</td>\n",
       "      <td>0.0</td>\n",
       "      <td>0.0</td>\n",
       "      <td>4.0</td>\n",
       "      <td>0.0</td>\n",
       "      <td>NaN</td>\n",
       "      <td>NaN</td>\n",
       "      <td>NaN</td>\n",
       "      <td>NaN</td>\n",
       "    </tr>\n",
       "    <tr>\n",
       "      <th>13</th>\n",
       "      <td>00:00:43</td>\n",
       "      <td>0.0</td>\n",
       "      <td>0.0</td>\n",
       "      <td>0.0</td>\n",
       "      <td>6.0</td>\n",
       "      <td>0.0</td>\n",
       "      <td>0.0</td>\n",
       "      <td>0.00</td>\n",
       "      <td>0.0</td>\n",
       "      <td>4.50</td>\n",
       "    </tr>\n",
       "    <tr>\n",
       "      <th>14</th>\n",
       "      <td>00:00:46</td>\n",
       "      <td>0.0</td>\n",
       "      <td>0.0</td>\n",
       "      <td>0.0</td>\n",
       "      <td>7.0</td>\n",
       "      <td>0.0</td>\n",
       "      <td>0.0</td>\n",
       "      <td>0.00</td>\n",
       "      <td>0.0</td>\n",
       "      <td>5.25</td>\n",
       "    </tr>\n",
       "    <tr>\n",
       "      <th>15</th>\n",
       "      <td>00:00:49</td>\n",
       "      <td>0.0</td>\n",
       "      <td>0.0</td>\n",
       "      <td>0.0</td>\n",
       "      <td>8.0</td>\n",
       "      <td>0.0</td>\n",
       "      <td>0.0</td>\n",
       "      <td>0.00</td>\n",
       "      <td>0.0</td>\n",
       "      <td>6.25</td>\n",
       "    </tr>\n",
       "    <tr>\n",
       "      <th>16</th>\n",
       "      <td>00:00:49</td>\n",
       "      <td>0.0</td>\n",
       "      <td>0.0</td>\n",
       "      <td>0.0</td>\n",
       "      <td>8.0</td>\n",
       "      <td>0.0</td>\n",
       "      <td>0.0</td>\n",
       "      <td>0.00</td>\n",
       "      <td>0.0</td>\n",
       "      <td>7.25</td>\n",
       "    </tr>\n",
       "    <tr>\n",
       "      <th>17</th>\n",
       "      <td>00:00:45</td>\n",
       "      <td>0.0</td>\n",
       "      <td>0.0</td>\n",
       "      <td>0.0</td>\n",
       "      <td>7.0</td>\n",
       "      <td>0.0</td>\n",
       "      <td>0.0</td>\n",
       "      <td>0.00</td>\n",
       "      <td>0.0</td>\n",
       "      <td>7.50</td>\n",
       "    </tr>\n",
       "    <tr>\n",
       "      <th>18</th>\n",
       "      <td>00:00:50</td>\n",
       "      <td>0.0</td>\n",
       "      <td>0.0</td>\n",
       "      <td>0.0</td>\n",
       "      <td>8.0</td>\n",
       "      <td>0.0</td>\n",
       "      <td>0.0</td>\n",
       "      <td>0.00</td>\n",
       "      <td>0.0</td>\n",
       "      <td>7.75</td>\n",
       "    </tr>\n",
       "    <tr>\n",
       "      <th>19</th>\n",
       "      <td>00:00:53</td>\n",
       "      <td>0.0</td>\n",
       "      <td>-1.0</td>\n",
       "      <td>0.0</td>\n",
       "      <td>9.0</td>\n",
       "      <td>0.0</td>\n",
       "      <td>0.0</td>\n",
       "      <td>-0.25</td>\n",
       "      <td>0.0</td>\n",
       "      <td>8.00</td>\n",
       "    </tr>\n",
       "  </tbody>\n",
       "</table>\n",
       "</div>"
      ],
      "text/plain": [
       "       time  temp  humid  RTD_temp  lux  curtain  temp_ma  humid_ma  \\\n",
       "0       NaT   NaN    NaN       NaN  NaN      NaN      NaN       NaN   \n",
       "1       NaT   NaN    NaN       NaN  NaN      NaN      NaN       NaN   \n",
       "2       NaT   NaN    NaN       NaN  NaN      NaN      NaN       NaN   \n",
       "3       NaT   NaN    NaN       NaN  NaN      NaN      NaN       NaN   \n",
       "4       NaT   NaN    NaN       NaN  NaN      NaN      NaN       NaN   \n",
       "5       NaT   NaN    NaN       NaN  NaN      NaN      NaN       NaN   \n",
       "6       NaT   NaN    NaN       NaN  NaN      NaN      NaN       NaN   \n",
       "7       NaT   NaN    NaN       NaN  NaN      NaN      NaN       NaN   \n",
       "8       NaT   NaN    NaN       NaN  NaN      NaN      NaN       NaN   \n",
       "9       NaT   NaN    NaN       NaN  NaN      NaN      NaN       NaN   \n",
       "10 00:00:43   0.0    0.0       0.0  4.0      0.0      NaN       NaN   \n",
       "11 00:00:46   0.0    0.0       0.0  4.0      0.0      NaN       NaN   \n",
       "12 00:00:45   0.0    0.0       0.0  4.0      0.0      NaN       NaN   \n",
       "13 00:00:43   0.0    0.0       0.0  6.0      0.0      0.0      0.00   \n",
       "14 00:00:46   0.0    0.0       0.0  7.0      0.0      0.0      0.00   \n",
       "15 00:00:49   0.0    0.0       0.0  8.0      0.0      0.0      0.00   \n",
       "16 00:00:49   0.0    0.0       0.0  8.0      0.0      0.0      0.00   \n",
       "17 00:00:45   0.0    0.0       0.0  7.0      0.0      0.0      0.00   \n",
       "18 00:00:50   0.0    0.0       0.0  8.0      0.0      0.0      0.00   \n",
       "19 00:00:53   0.0   -1.0       0.0  9.0      0.0      0.0     -0.25   \n",
       "\n",
       "    RTD_temp_ma  lux_ma  \n",
       "0           NaN     NaN  \n",
       "1           NaN     NaN  \n",
       "2           NaN     NaN  \n",
       "3           NaN     NaN  \n",
       "4           NaN     NaN  \n",
       "5           NaN     NaN  \n",
       "6           NaN     NaN  \n",
       "7           NaN     NaN  \n",
       "8           NaN     NaN  \n",
       "9           NaN     NaN  \n",
       "10          NaN     NaN  \n",
       "11          NaN     NaN  \n",
       "12          NaN     NaN  \n",
       "13          0.0    4.50  \n",
       "14          0.0    5.25  \n",
       "15          0.0    6.25  \n",
       "16          0.0    7.25  \n",
       "17          0.0    7.50  \n",
       "18          0.0    7.75  \n",
       "19          0.0    8.00  "
      ]
     },
     "execution_count": 714,
     "metadata": {},
     "output_type": "execute_result"
    }
   ],
   "source": [
    "df.head(20)"
   ]
  },
  {
   "cell_type": "code",
   "execution_count": 685,
   "metadata": {},
   "outputs": [
    {
     "data": {
      "text/html": [
       "<div>\n",
       "<style scoped>\n",
       "    .dataframe tbody tr th:only-of-type {\n",
       "        vertical-align: middle;\n",
       "    }\n",
       "\n",
       "    .dataframe tbody tr th {\n",
       "        vertical-align: top;\n",
       "    }\n",
       "\n",
       "    .dataframe thead th {\n",
       "        text-align: right;\n",
       "    }\n",
       "</style>\n",
       "<table border=\"1\" class=\"dataframe\">\n",
       "  <thead>\n",
       "    <tr style=\"text-align: right;\">\n",
       "      <th></th>\n",
       "      <th>time</th>\n",
       "      <th>temp</th>\n",
       "      <th>humid</th>\n",
       "      <th>RTD_temp</th>\n",
       "      <th>lux</th>\n",
       "      <th>curtain</th>\n",
       "      <th>temp_ma</th>\n",
       "      <th>humid_ma</th>\n",
       "      <th>RTD_temp_ma</th>\n",
       "      <th>lux_ma</th>\n",
       "    </tr>\n",
       "  </thead>\n",
       "  <tbody>\n",
       "    <tr>\n",
       "      <th>count</th>\n",
       "      <td>145213</td>\n",
       "      <td>145213.000000</td>\n",
       "      <td>145213.000000</td>\n",
       "      <td>145213.000000</td>\n",
       "      <td>145213.000000</td>\n",
       "      <td>145213.000000</td>\n",
       "      <td>145210.000000</td>\n",
       "      <td>145210.000000</td>\n",
       "      <td>145210.000000</td>\n",
       "      <td>145210.000000</td>\n",
       "    </tr>\n",
       "    <tr>\n",
       "      <th>mean</th>\n",
       "      <td>0 days 00:00:04.333124</td>\n",
       "      <td>-0.000007</td>\n",
       "      <td>0.000028</td>\n",
       "      <td>-0.000014</td>\n",
       "      <td>0.001811</td>\n",
       "      <td>-0.000007</td>\n",
       "      <td>-0.000007</td>\n",
       "      <td>0.000028</td>\n",
       "      <td>-0.000014</td>\n",
       "      <td>0.001811</td>\n",
       "    </tr>\n",
       "    <tr>\n",
       "      <th>std</th>\n",
       "      <td>0 days 00:00:02.663592</td>\n",
       "      <td>0.238399</td>\n",
       "      <td>0.300630</td>\n",
       "      <td>0.126071</td>\n",
       "      <td>347.758680</td>\n",
       "      <td>0.004545</td>\n",
       "      <td>0.061073</td>\n",
       "      <td>0.085379</td>\n",
       "      <td>0.038512</td>\n",
       "      <td>180.853798</td>\n",
       "    </tr>\n",
       "    <tr>\n",
       "      <th>min</th>\n",
       "      <td>0 days 00:00:00</td>\n",
       "      <td>-4.000000</td>\n",
       "      <td>-2.000000</td>\n",
       "      <td>-1.000000</td>\n",
       "      <td>-17078.000000</td>\n",
       "      <td>-1.000000</td>\n",
       "      <td>-1.000000</td>\n",
       "      <td>-0.500000</td>\n",
       "      <td>-0.250000</td>\n",
       "      <td>-4366.000000</td>\n",
       "    </tr>\n",
       "    <tr>\n",
       "      <th>25%</th>\n",
       "      <td>0 days 00:00:03</td>\n",
       "      <td>0.000000</td>\n",
       "      <td>0.000000</td>\n",
       "      <td>0.000000</td>\n",
       "      <td>0.000000</td>\n",
       "      <td>0.000000</td>\n",
       "      <td>0.000000</td>\n",
       "      <td>0.000000</td>\n",
       "      <td>0.000000</td>\n",
       "      <td>0.000000</td>\n",
       "    </tr>\n",
       "    <tr>\n",
       "      <th>50%</th>\n",
       "      <td>0 days 00:00:03</td>\n",
       "      <td>0.000000</td>\n",
       "      <td>0.000000</td>\n",
       "      <td>0.000000</td>\n",
       "      <td>0.000000</td>\n",
       "      <td>0.000000</td>\n",
       "      <td>0.000000</td>\n",
       "      <td>0.000000</td>\n",
       "      <td>0.000000</td>\n",
       "      <td>0.000000</td>\n",
       "    </tr>\n",
       "    <tr>\n",
       "      <th>75%</th>\n",
       "      <td>0 days 00:00:06</td>\n",
       "      <td>0.000000</td>\n",
       "      <td>0.000000</td>\n",
       "      <td>0.000000</td>\n",
       "      <td>0.000000</td>\n",
       "      <td>0.000000</td>\n",
       "      <td>0.000000</td>\n",
       "      <td>0.000000</td>\n",
       "      <td>0.000000</td>\n",
       "      <td>0.000000</td>\n",
       "    </tr>\n",
       "    <tr>\n",
       "      <th>max</th>\n",
       "      <td>0 days 00:06:56</td>\n",
       "      <td>4.000000</td>\n",
       "      <td>3.000000</td>\n",
       "      <td>1.000000</td>\n",
       "      <td>17842.000000</td>\n",
       "      <td>1.000000</td>\n",
       "      <td>1.000000</td>\n",
       "      <td>0.500000</td>\n",
       "      <td>0.250000</td>\n",
       "      <td>4462.500000</td>\n",
       "    </tr>\n",
       "  </tbody>\n",
       "</table>\n",
       "</div>"
      ],
      "text/plain": [
       "                         time           temp          humid       RTD_temp  \\\n",
       "count                  145213  145213.000000  145213.000000  145213.000000   \n",
       "mean   0 days 00:00:04.333124      -0.000007       0.000028      -0.000014   \n",
       "std    0 days 00:00:02.663592       0.238399       0.300630       0.126071   \n",
       "min           0 days 00:00:00      -4.000000      -2.000000      -1.000000   \n",
       "25%           0 days 00:00:03       0.000000       0.000000       0.000000   \n",
       "50%           0 days 00:00:03       0.000000       0.000000       0.000000   \n",
       "75%           0 days 00:00:06       0.000000       0.000000       0.000000   \n",
       "max           0 days 00:06:56       4.000000       3.000000       1.000000   \n",
       "\n",
       "                 lux        curtain        temp_ma       humid_ma  \\\n",
       "count  145213.000000  145213.000000  145210.000000  145210.000000   \n",
       "mean        0.001811      -0.000007      -0.000007       0.000028   \n",
       "std       347.758680       0.004545       0.061073       0.085379   \n",
       "min    -17078.000000      -1.000000      -1.000000      -0.500000   \n",
       "25%         0.000000       0.000000       0.000000       0.000000   \n",
       "50%         0.000000       0.000000       0.000000       0.000000   \n",
       "75%         0.000000       0.000000       0.000000       0.000000   \n",
       "max     17842.000000       1.000000       1.000000       0.500000   \n",
       "\n",
       "         RTD_temp_ma         lux_ma  \n",
       "count  145210.000000  145210.000000  \n",
       "mean       -0.000014       0.001811  \n",
       "std         0.038512     180.853798  \n",
       "min        -0.250000   -4366.000000  \n",
       "25%         0.000000       0.000000  \n",
       "50%         0.000000       0.000000  \n",
       "75%         0.000000       0.000000  \n",
       "max         0.250000    4462.500000  "
      ]
     },
     "execution_count": 685,
     "metadata": {},
     "output_type": "execute_result"
    }
   ],
   "source": [
    "df.describe()"
   ]
  },
  {
   "cell_type": "code",
   "execution_count": 680,
   "metadata": {},
   "outputs": [
    {
     "data": {
      "image/png": "[encoded data removed]",
      "text/plain": [
       "<Figure size 1152x576 with 2 Axes>"
      ]
     },
     "metadata": {
      "needs_background": "light"
     },
     "output_type": "display_data"
    }
   ],
   "source": [
    "import numpy as np\n",
    "import matplotlib.pyplot as plt\n",
    " \n",
    "t = df.index\n",
    "data1 = df['temp_ma']\n",
    "data3 = all_data2[\"temp_ma\"]\n",
    "\n",
    "fig, ax1 = plt.subplots(figsize = (16,8))\n",
    "\n",
    "color = 'tab:green'\n",
    "ax1.set_xlabel('time')\n",
    "ax1.set_ylabel('temp')\n",
    "ax1.plot(t, data1, color=color)\n",
    "\n",
    "ax1.tick_params(axis='y', labelcolor=color)\n",
    "\n",
    "ax2 = ax1.twinx()  # instantiate a second axes that shares the same x-axis\n",
    "\n",
    "color = 'tab:blue'\n",
    "ax2.set_ylabel('curtain')  # we already handled the x-label with ax1\n",
    "ax2.plot(t, data3, color=color)\n",
    "ax2.tick_params(axis='y', labelcolor=color)\n",
    "\n",
    "fig.tight_layout()  # otherwise the right y-label is slightly clipped\n",
    "\n",
    "plt.show()\n"
   ]
  },
  {
   "cell_type": "code",
   "execution_count": null,
   "metadata": {},
   "outputs": [],
   "source": []
  },
  {
   "cell_type": "code",
   "execution_count": 554,
   "metadata": {},
   "outputs": [],
   "source": [
    "over25 = all_data2[all_data2[\"RTD_temp_ma\"] > 25]"
   ]
  },
  {
   "cell_type": "code",
   "execution_count": null,
   "metadata": {},
   "outputs": [],
   "source": []
  },
  {
   "cell_type": "code",
   "execution_count": 555,
   "metadata": {},
   "outputs": [
    {
     "name": "stdout",
     "output_type": "stream",
     "text": [
      "36591\n"
     ]
    },
    {
     "data": {
      "text/html": [
       "<div>\n",
       "<style scoped>\n",
       "    .dataframe tbody tr th:only-of-type {\n",
       "        vertical-align: middle;\n",
       "    }\n",
       "\n",
       "    .dataframe tbody tr th {\n",
       "        vertical-align: top;\n",
       "    }\n",
       "\n",
       "    .dataframe thead th {\n",
       "        text-align: right;\n",
       "    }\n",
       "</style>\n",
       "<table border=\"1\" class=\"dataframe\">\n",
       "  <thead>\n",
       "    <tr style=\"text-align: right;\">\n",
       "      <th></th>\n",
       "      <th>time</th>\n",
       "      <th>temp</th>\n",
       "      <th>humid</th>\n",
       "      <th>RTD_temp</th>\n",
       "      <th>lux</th>\n",
       "      <th>curtain</th>\n",
       "      <th>temp_ma</th>\n",
       "      <th>humid_ma</th>\n",
       "      <th>RTD_temp_ma</th>\n",
       "      <th>lux_ma</th>\n",
       "    </tr>\n",
       "  </thead>\n",
       "  <tbody>\n",
       "    <tr>\n",
       "      <th>1031</th>\n",
       "      <td>2019-11-29 01:15:23</td>\n",
       "      <td>21</td>\n",
       "      <td>73.0</td>\n",
       "      <td>26</td>\n",
       "      <td>3538</td>\n",
       "      <td>1</td>\n",
       "      <td>21.0</td>\n",
       "      <td>73.0</td>\n",
       "      <td>25.25</td>\n",
       "      <td>3511.75</td>\n",
       "    </tr>\n",
       "    <tr>\n",
       "      <th>1032</th>\n",
       "      <td>2019-11-29 01:15:29</td>\n",
       "      <td>21</td>\n",
       "      <td>73.0</td>\n",
       "      <td>26</td>\n",
       "      <td>3562</td>\n",
       "      <td>1</td>\n",
       "      <td>21.0</td>\n",
       "      <td>73.0</td>\n",
       "      <td>25.50</td>\n",
       "      <td>3529.25</td>\n",
       "    </tr>\n",
       "    <tr>\n",
       "      <th>1033</th>\n",
       "      <td>2019-11-29 01:15:32</td>\n",
       "      <td>21</td>\n",
       "      <td>73.0</td>\n",
       "      <td>26</td>\n",
       "      <td>3571</td>\n",
       "      <td>1</td>\n",
       "      <td>21.0</td>\n",
       "      <td>73.0</td>\n",
       "      <td>25.75</td>\n",
       "      <td>3545.75</td>\n",
       "    </tr>\n",
       "    <tr>\n",
       "      <th>1034</th>\n",
       "      <td>2019-11-29 01:15:35</td>\n",
       "      <td>21</td>\n",
       "      <td>73.0</td>\n",
       "      <td>26</td>\n",
       "      <td>3579</td>\n",
       "      <td>1</td>\n",
       "      <td>21.0</td>\n",
       "      <td>73.0</td>\n",
       "      <td>26.00</td>\n",
       "      <td>3562.50</td>\n",
       "    </tr>\n",
       "    <tr>\n",
       "      <th>1035</th>\n",
       "      <td>2019-11-29 01:15:43</td>\n",
       "      <td>21</td>\n",
       "      <td>73.0</td>\n",
       "      <td>26</td>\n",
       "      <td>3608</td>\n",
       "      <td>1</td>\n",
       "      <td>21.0</td>\n",
       "      <td>73.0</td>\n",
       "      <td>26.00</td>\n",
       "      <td>3580.00</td>\n",
       "    </tr>\n",
       "  </tbody>\n",
       "</table>\n",
       "</div>"
      ],
      "text/plain": [
       "                    time  temp  humid  RTD_temp   lux  curtain  temp_ma  \\\n",
       "1031 2019-11-29 01:15:23    21   73.0        26  3538        1     21.0   \n",
       "1032 2019-11-29 01:15:29    21   73.0        26  3562        1     21.0   \n",
       "1033 2019-11-29 01:15:32    21   73.0        26  3571        1     21.0   \n",
       "1034 2019-11-29 01:15:35    21   73.0        26  3579        1     21.0   \n",
       "1035 2019-11-29 01:15:43    21   73.0        26  3608        1     21.0   \n",
       "\n",
       "      humid_ma  RTD_temp_ma   lux_ma  \n",
       "1031      73.0        25.25  3511.75  \n",
       "1032      73.0        25.50  3529.25  \n",
       "1033      73.0        25.75  3545.75  \n",
       "1034      73.0        26.00  3562.50  \n",
       "1035      73.0        26.00  3580.00  "
      ]
     },
     "execution_count": 555,
     "metadata": {},
     "output_type": "execute_result"
    }
   ],
   "source": [
    "print(len(over25))\n",
    "over25.head()"
   ]
  },
  {
   "cell_type": "code",
   "execution_count": 556,
   "metadata": {},
   "outputs": [
    {
     "data": {
      "image/png": "[encoded data removed]",
      "text/plain": [
       "<Figure size 1152x576 with 2 Axes>"
      ]
     },
     "metadata": {
      "needs_background": "light"
     },
     "output_type": "display_data"
    }
   ],
   "source": [
    "t = over25.index\n",
    "data1 = over25['temp_ma']\n",
    "data2 = over25['RTD_temp_ma']\n",
    "data3 = over25[\"curtain\"]\n",
    "\n",
    "fig, ax1 = plt.subplots(figsize = (16,8))\n",
    "\n",
    "color = 'tab:green'\n",
    "ax1.set_xlabel('time')\n",
    "\n",
    "ax1.set_ylabel('temp')\n",
    "ax1.plot(t, data1, color=color)\n",
    "ax1.plot(t, data2, color='orange')\n",
    "ax1.tick_params(axis='y', labelcolor=color)\n",
    "\n",
    "ax2 = ax1.twinx()  # instantiate a second axes that shares the same x-axis\n",
    "\n",
    "color = 'tab:blue'\n",
    "ax2.set_ylabel('curtain')  # we already handled the x-label with ax1\n",
    "ax2.plot(t, data3, color=color)\n",
    "ax2.tick_params(axis='y', labelcolor=color)\n",
    "\n",
    "fig.tight_layout()  # otherwise the right y-label is slightly clipped\n",
    "\n",
    "plt.show()"
   ]
  },
  {
   "cell_type": "code",
   "execution_count": 659,
   "metadata": {},
   "outputs": [
    {
     "data": {
      "text/plain": [
       "5964"
      ]
     },
     "execution_count": 659,
     "metadata": {},
     "output_type": "execute_result"
    }
   ],
   "source": [
    "part1 = over25.iloc[:5964,[6,8]]\n",
    "len(part1)"
   ]
  },
  {
   "cell_type": "code",
   "execution_count": 660,
   "metadata": {},
   "outputs": [
    {
     "data": {
      "text/plain": [
       "10718"
      ]
     },
     "execution_count": 660,
     "metadata": {},
     "output_type": "execute_result"
    }
   ],
   "source": [
    "part2 = over25.iloc[5964:16682,[6,8]]\n",
    "len(part2)"
   ]
  },
  {
   "cell_type": "code",
   "execution_count": 661,
   "metadata": {},
   "outputs": [
    {
     "data": {
      "text/plain": [
       "14403"
      ]
     },
     "execution_count": 661,
     "metadata": {},
     "output_type": "execute_result"
    }
   ],
   "source": [
    "part3 = over25.iloc[16682:31085,[6,8]]\n",
    "len(part3)"
   ]
  },
  {
   "cell_type": "code",
   "execution_count": 662,
   "metadata": {},
   "outputs": [
    {
     "data": {
      "text/plain": [
       "5506"
      ]
     },
     "execution_count": 662,
     "metadata": {},
     "output_type": "execute_result"
    }
   ],
   "source": [
    "part4 = over25.iloc[31085:,[6,8]]\n",
    "len(part4)"
   ]
  },
  {
   "cell_type": "code",
   "execution_count": 663,
   "metadata": {},
   "outputs": [],
   "source": [
    "down = pd.concat([part1, part4])"
   ]
  },
  {
   "cell_type": "code",
   "execution_count": 664,
   "metadata": {},
   "outputs": [],
   "source": [
    "up = pd.concat([part2,part3])"
   ]
  },
  {
   "cell_type": "code",
   "execution_count": 665,
   "metadata": {},
   "outputs": [
    {
     "data": {
      "text/html": [
       "<style  type=\"text/css\" >\n",
       "    #T_5ff5e0c6_2092_11ea_bfd0_4d599fe431c1row0_col0 {\n",
       "            background-color:  #084081;\n",
       "            color:  #f1f1f1;\n",
       "        }    #T_5ff5e0c6_2092_11ea_bfd0_4d599fe431c1row0_col1 {\n",
       "            background-color:  #f7fcf0;\n",
       "            color:  #000000;\n",
       "        }    #T_5ff5e0c6_2092_11ea_bfd0_4d599fe431c1row1_col0 {\n",
       "            background-color:  #f7fcf0;\n",
       "            color:  #000000;\n",
       "        }    #T_5ff5e0c6_2092_11ea_bfd0_4d599fe431c1row1_col1 {\n",
       "            background-color:  #084081;\n",
       "            color:  #f1f1f1;\n",
       "        }</style><table id=\"T_5ff5e0c6_2092_11ea_bfd0_4d599fe431c1\" ><thead>    <tr>        <th class=\"blank level0\" ></th>        <th class=\"col_heading level0 col0\" >temp_ma</th>        <th class=\"col_heading level0 col1\" >RTD_temp_ma</th>    </tr></thead><tbody>\n",
       "                <tr>\n",
       "                        <th id=\"T_5ff5e0c6_2092_11ea_bfd0_4d599fe431c1level0_row0\" class=\"row_heading level0 row0\" >temp_ma</th>\n",
       "                        <td id=\"T_5ff5e0c6_2092_11ea_bfd0_4d599fe431c1row0_col0\" class=\"data row0 col0\" >1</td>\n",
       "                        <td id=\"T_5ff5e0c6_2092_11ea_bfd0_4d599fe431c1row0_col1\" class=\"data row0 col1\" >0.528387</td>\n",
       "            </tr>\n",
       "            <tr>\n",
       "                        <th id=\"T_5ff5e0c6_2092_11ea_bfd0_4d599fe431c1level0_row1\" class=\"row_heading level0 row1\" >RTD_temp_ma</th>\n",
       "                        <td id=\"T_5ff5e0c6_2092_11ea_bfd0_4d599fe431c1row1_col0\" class=\"data row1 col0\" >0.528387</td>\n",
       "                        <td id=\"T_5ff5e0c6_2092_11ea_bfd0_4d599fe431c1row1_col1\" class=\"data row1 col1\" >1</td>\n",
       "            </tr>\n",
       "    </tbody></table>"
      ],
      "text/plain": [
       "<pandas.io.formats.style.Styler at 0x7f520f05e208>"
      ]
     },
     "execution_count": 665,
     "metadata": {},
     "output_type": "execute_result"
    }
   ],
   "source": [
    "corr_down = down.corr()\n",
    "corr_down.style.background_gradient(cmap='GnBu')"
   ]
  },
  {
   "cell_type": "code",
   "execution_count": 666,
   "metadata": {},
   "outputs": [
    {
     "data": {
      "text/html": [
       "<style  type=\"text/css\" >\n",
       "    #T_602f0784_2092_11ea_bfd0_4d599fe431c1row0_col0 {\n",
       "            background-color:  #084081;\n",
       "            color:  #f1f1f1;\n",
       "        }    #T_602f0784_2092_11ea_bfd0_4d599fe431c1row0_col1 {\n",
       "            background-color:  #f7fcf0;\n",
       "            color:  #000000;\n",
       "        }    #T_602f0784_2092_11ea_bfd0_4d599fe431c1row1_col0 {\n",
       "            background-color:  #f7fcf0;\n",
       "            color:  #000000;\n",
       "        }    #T_602f0784_2092_11ea_bfd0_4d599fe431c1row1_col1 {\n",
       "            background-color:  #084081;\n",
       "            color:  #f1f1f1;\n",
       "        }</style><table id=\"T_602f0784_2092_11ea_bfd0_4d599fe431c1\" ><thead>    <tr>        <th class=\"blank level0\" ></th>        <th class=\"col_heading level0 col0\" >temp_ma</th>        <th class=\"col_heading level0 col1\" >RTD_temp_ma</th>    </tr></thead><tbody>\n",
       "                <tr>\n",
       "                        <th id=\"T_602f0784_2092_11ea_bfd0_4d599fe431c1level0_row0\" class=\"row_heading level0 row0\" >temp_ma</th>\n",
       "                        <td id=\"T_602f0784_2092_11ea_bfd0_4d599fe431c1row0_col0\" class=\"data row0 col0\" >1</td>\n",
       "                        <td id=\"T_602f0784_2092_11ea_bfd0_4d599fe431c1row0_col1\" class=\"data row0 col1\" >0.98247</td>\n",
       "            </tr>\n",
       "            <tr>\n",
       "                        <th id=\"T_602f0784_2092_11ea_bfd0_4d599fe431c1level0_row1\" class=\"row_heading level0 row1\" >RTD_temp_ma</th>\n",
       "                        <td id=\"T_602f0784_2092_11ea_bfd0_4d599fe431c1row1_col0\" class=\"data row1 col0\" >0.98247</td>\n",
       "                        <td id=\"T_602f0784_2092_11ea_bfd0_4d599fe431c1row1_col1\" class=\"data row1 col1\" >1</td>\n",
       "            </tr>\n",
       "    </tbody></table>"
      ],
      "text/plain": [
       "<pandas.io.formats.style.Styler at 0x7f521d4dc3c8>"
      ]
     },
     "execution_count": 666,
     "metadata": {},
     "output_type": "execute_result"
    }
   ],
   "source": [
    "corr_up = up.corr()\n",
    "corr_up.style.background_gradient(cmap='GnBu')"
   ]
  },
  {
   "cell_type": "code",
   "execution_count": 667,
   "metadata": {},
   "outputs": [],
   "source": [
    "down['res'] = down.iloc[:,1] - down.iloc[:,0]"
   ]
  },
  {
   "cell_type": "code",
   "execution_count": 669,
   "metadata": {},
   "outputs": [
    {
     "data": {
      "text/html": [
       "<div>\n",
       "<style scoped>\n",
       "    .dataframe tbody tr th:only-of-type {\n",
       "        vertical-align: middle;\n",
       "    }\n",
       "\n",
       "    .dataframe tbody tr th {\n",
       "        vertical-align: top;\n",
       "    }\n",
       "\n",
       "    .dataframe thead th {\n",
       "        text-align: right;\n",
       "    }\n",
       "</style>\n",
       "<table border=\"1\" class=\"dataframe\">\n",
       "  <thead>\n",
       "    <tr style=\"text-align: right;\">\n",
       "      <th></th>\n",
       "      <th>temp_ma</th>\n",
       "      <th>RTD_temp_ma</th>\n",
       "      <th>res</th>\n",
       "    </tr>\n",
       "  </thead>\n",
       "  <tbody>\n",
       "    <tr>\n",
       "      <th>count</th>\n",
       "      <td>11470.000000</td>\n",
       "      <td>11470.000000</td>\n",
       "      <td>11470.000000</td>\n",
       "    </tr>\n",
       "    <tr>\n",
       "      <th>mean</th>\n",
       "      <td>25.646752</td>\n",
       "      <td>33.062860</td>\n",
       "      <td>7.416107</td>\n",
       "    </tr>\n",
       "    <tr>\n",
       "      <th>std</th>\n",
       "      <td>2.320177</td>\n",
       "      <td>5.717724</td>\n",
       "      <td>4.904720</td>\n",
       "    </tr>\n",
       "    <tr>\n",
       "      <th>min</th>\n",
       "      <td>21.000000</td>\n",
       "      <td>25.250000</td>\n",
       "      <td>0.000000</td>\n",
       "    </tr>\n",
       "    <tr>\n",
       "      <th>25%</th>\n",
       "      <td>24.000000</td>\n",
       "      <td>28.000000</td>\n",
       "      <td>3.000000</td>\n",
       "    </tr>\n",
       "    <tr>\n",
       "      <th>50%</th>\n",
       "      <td>26.000000</td>\n",
       "      <td>32.000000</td>\n",
       "      <td>7.000000</td>\n",
       "    </tr>\n",
       "    <tr>\n",
       "      <th>75%</th>\n",
       "      <td>27.000000</td>\n",
       "      <td>38.000000</td>\n",
       "      <td>11.000000</td>\n",
       "    </tr>\n",
       "    <tr>\n",
       "      <th>max</th>\n",
       "      <td>32.000000</td>\n",
       "      <td>44.000000</td>\n",
       "      <td>18.500000</td>\n",
       "    </tr>\n",
       "  </tbody>\n",
       "</table>\n",
       "</div>"
      ],
      "text/plain": [
       "            temp_ma   RTD_temp_ma           res\n",
       "count  11470.000000  11470.000000  11470.000000\n",
       "mean      25.646752     33.062860      7.416107\n",
       "std        2.320177      5.717724      4.904720\n",
       "min       21.000000     25.250000      0.000000\n",
       "25%       24.000000     28.000000      3.000000\n",
       "50%       26.000000     32.000000      7.000000\n",
       "75%       27.000000     38.000000     11.000000\n",
       "max       32.000000     44.000000     18.500000"
      ]
     },
     "execution_count": 669,
     "metadata": {},
     "output_type": "execute_result"
    }
   ],
   "source": [
    "down.describe()"
   ]
  },
  {
   "cell_type": "code",
   "execution_count": 671,
   "metadata": {},
   "outputs": [],
   "source": [
    "up['res'] = up.iloc[:,1] - up.iloc[:,0]"
   ]
  },
  {
   "cell_type": "code",
   "execution_count": 672,
   "metadata": {},
   "outputs": [
    {
     "data": {
      "text/html": [
       "<div>\n",
       "<style scoped>\n",
       "    .dataframe tbody tr th:only-of-type {\n",
       "        vertical-align: middle;\n",
       "    }\n",
       "\n",
       "    .dataframe tbody tr th {\n",
       "        vertical-align: top;\n",
       "    }\n",
       "\n",
       "    .dataframe thead th {\n",
       "        text-align: right;\n",
       "    }\n",
       "</style>\n",
       "<table border=\"1\" class=\"dataframe\">\n",
       "  <thead>\n",
       "    <tr style=\"text-align: right;\">\n",
       "      <th></th>\n",
       "      <th>temp_ma</th>\n",
       "      <th>RTD_temp_ma</th>\n",
       "      <th>res</th>\n",
       "    </tr>\n",
       "  </thead>\n",
       "  <tbody>\n",
       "    <tr>\n",
       "      <th>count</th>\n",
       "      <td>25121.000000</td>\n",
       "      <td>25121.000000</td>\n",
       "      <td>25121.000000</td>\n",
       "    </tr>\n",
       "    <tr>\n",
       "      <th>mean</th>\n",
       "      <td>31.189742</td>\n",
       "      <td>34.501174</td>\n",
       "      <td>3.311433</td>\n",
       "    </tr>\n",
       "    <tr>\n",
       "      <th>std</th>\n",
       "      <td>6.905108</td>\n",
       "      <td>9.456439</td>\n",
       "      <td>2.966238</td>\n",
       "    </tr>\n",
       "    <tr>\n",
       "      <th>min</th>\n",
       "      <td>23.750000</td>\n",
       "      <td>25.250000</td>\n",
       "      <td>-1.000000</td>\n",
       "    </tr>\n",
       "    <tr>\n",
       "      <th>25%</th>\n",
       "      <td>26.000000</td>\n",
       "      <td>27.000000</td>\n",
       "      <td>1.000000</td>\n",
       "    </tr>\n",
       "    <tr>\n",
       "      <th>50%</th>\n",
       "      <td>28.000000</td>\n",
       "      <td>31.000000</td>\n",
       "      <td>2.750000</td>\n",
       "    </tr>\n",
       "    <tr>\n",
       "      <th>75%</th>\n",
       "      <td>34.000000</td>\n",
       "      <td>40.000000</td>\n",
       "      <td>4.750000</td>\n",
       "    </tr>\n",
       "    <tr>\n",
       "      <th>max</th>\n",
       "      <td>47.000000</td>\n",
       "      <td>55.000000</td>\n",
       "      <td>10.000000</td>\n",
       "    </tr>\n",
       "  </tbody>\n",
       "</table>\n",
       "</div>"
      ],
      "text/plain": [
       "            temp_ma   RTD_temp_ma           res\n",
       "count  25121.000000  25121.000000  25121.000000\n",
       "mean      31.189742     34.501174      3.311433\n",
       "std        6.905108      9.456439      2.966238\n",
       "min       23.750000     25.250000     -1.000000\n",
       "25%       26.000000     27.000000      1.000000\n",
       "50%       28.000000     31.000000      2.750000\n",
       "75%       34.000000     40.000000      4.750000\n",
       "max       47.000000     55.000000     10.000000"
      ]
     },
     "execution_count": 672,
     "metadata": {},
     "output_type": "execute_result"
    }
   ],
   "source": [
    "up.describe()"
   ]
  },
  {
   "cell_type": "code",
   "execution_count": null,
   "metadata": {},
   "outputs": [],
   "source": []
  },
  {
   "cell_type": "code",
   "execution_count": 673,
   "metadata": {},
   "outputs": [
    {
     "data": {
      "text/html": [
       "<style  type=\"text/css\" >\n",
       "    #T_d0c571c0_2099_11ea_bfd0_4d599fe431c1row0_col0 {\n",
       "            background-color:  #084081;\n",
       "            color:  #f1f1f1;\n",
       "        }    #T_d0c571c0_2099_11ea_bfd0_4d599fe431c1row0_col1 {\n",
       "            background-color:  #f7fcf0;\n",
       "            color:  #000000;\n",
       "        }    #T_d0c571c0_2099_11ea_bfd0_4d599fe431c1row1_col0 {\n",
       "            background-color:  #f7fcf0;\n",
       "            color:  #000000;\n",
       "        }    #T_d0c571c0_2099_11ea_bfd0_4d599fe431c1row1_col1 {\n",
       "            background-color:  #084081;\n",
       "            color:  #f1f1f1;\n",
       "        }</style><table id=\"T_d0c571c0_2099_11ea_bfd0_4d599fe431c1\" ><thead>    <tr>        <th class=\"blank level0\" ></th>        <th class=\"col_heading level0 col0\" >temp_ma</th>        <th class=\"col_heading level0 col1\" >RTD_temp_ma</th>    </tr></thead><tbody>\n",
       "                <tr>\n",
       "                        <th id=\"T_d0c571c0_2099_11ea_bfd0_4d599fe431c1level0_row0\" class=\"row_heading level0 row0\" >temp_ma</th>\n",
       "                        <td id=\"T_d0c571c0_2099_11ea_bfd0_4d599fe431c1row0_col0\" class=\"data row0 col0\" >1</td>\n",
       "                        <td id=\"T_d0c571c0_2099_11ea_bfd0_4d599fe431c1row0_col1\" class=\"data row0 col1\" >0.384953</td>\n",
       "            </tr>\n",
       "            <tr>\n",
       "                        <th id=\"T_d0c571c0_2099_11ea_bfd0_4d599fe431c1level0_row1\" class=\"row_heading level0 row1\" >RTD_temp_ma</th>\n",
       "                        <td id=\"T_d0c571c0_2099_11ea_bfd0_4d599fe431c1row1_col0\" class=\"data row1 col0\" >0.384953</td>\n",
       "                        <td id=\"T_d0c571c0_2099_11ea_bfd0_4d599fe431c1row1_col1\" class=\"data row1 col1\" >1</td>\n",
       "            </tr>\n",
       "    </tbody></table>"
      ],
      "text/plain": [
       "<pandas.io.formats.style.Styler at 0x7f520f05e358>"
      ]
     },
     "execution_count": 673,
     "metadata": {},
     "output_type": "execute_result"
    }
   ],
   "source": [
    "corr = part1.corr()\n",
    "corr.style.background_gradient(cmap='GnBu')"
   ]
  },
  {
   "cell_type": "code",
   "execution_count": 674,
   "metadata": {},
   "outputs": [
    {
     "data": {
      "text/html": [
       "<style  type=\"text/css\" >\n",
       "    #T_d0e6debe_2099_11ea_bfd0_4d599fe431c1row0_col0 {\n",
       "            background-color:  #084081;\n",
       "            color:  #f1f1f1;\n",
       "        }    #T_d0e6debe_2099_11ea_bfd0_4d599fe431c1row0_col1 {\n",
       "            background-color:  #f7fcf0;\n",
       "            color:  #000000;\n",
       "        }    #T_d0e6debe_2099_11ea_bfd0_4d599fe431c1row1_col0 {\n",
       "            background-color:  #f7fcf0;\n",
       "            color:  #000000;\n",
       "        }    #T_d0e6debe_2099_11ea_bfd0_4d599fe431c1row1_col1 {\n",
       "            background-color:  #084081;\n",
       "            color:  #f1f1f1;\n",
       "        }</style><table id=\"T_d0e6debe_2099_11ea_bfd0_4d599fe431c1\" ><thead>    <tr>        <th class=\"blank level0\" ></th>        <th class=\"col_heading level0 col0\" >temp_ma</th>        <th class=\"col_heading level0 col1\" >RTD_temp_ma</th>    </tr></thead><tbody>\n",
       "                <tr>\n",
       "                        <th id=\"T_d0e6debe_2099_11ea_bfd0_4d599fe431c1level0_row0\" class=\"row_heading level0 row0\" >temp_ma</th>\n",
       "                        <td id=\"T_d0e6debe_2099_11ea_bfd0_4d599fe431c1row0_col0\" class=\"data row0 col0\" >1</td>\n",
       "                        <td id=\"T_d0e6debe_2099_11ea_bfd0_4d599fe431c1row0_col1\" class=\"data row0 col1\" >0.962352</td>\n",
       "            </tr>\n",
       "            <tr>\n",
       "                        <th id=\"T_d0e6debe_2099_11ea_bfd0_4d599fe431c1level0_row1\" class=\"row_heading level0 row1\" >RTD_temp_ma</th>\n",
       "                        <td id=\"T_d0e6debe_2099_11ea_bfd0_4d599fe431c1row1_col0\" class=\"data row1 col0\" >0.962352</td>\n",
       "                        <td id=\"T_d0e6debe_2099_11ea_bfd0_4d599fe431c1row1_col1\" class=\"data row1 col1\" >1</td>\n",
       "            </tr>\n",
       "    </tbody></table>"
      ],
      "text/plain": [
       "<pandas.io.formats.style.Styler at 0x7f520f05e048>"
      ]
     },
     "execution_count": 674,
     "metadata": {},
     "output_type": "execute_result"
    }
   ],
   "source": [
    "corr = part2.corr()\n",
    "corr.style.background_gradient(cmap='GnBu')"
   ]
  },
  {
   "cell_type": "code",
   "execution_count": 675,
   "metadata": {},
   "outputs": [
    {
     "data": {
      "text/html": [
       "<style  type=\"text/css\" >\n",
       "    #T_d107ac5c_2099_11ea_bfd0_4d599fe431c1row0_col0 {\n",
       "            background-color:  #084081;\n",
       "            color:  #f1f1f1;\n",
       "        }    #T_d107ac5c_2099_11ea_bfd0_4d599fe431c1row0_col1 {\n",
       "            background-color:  #f7fcf0;\n",
       "            color:  #000000;\n",
       "        }    #T_d107ac5c_2099_11ea_bfd0_4d599fe431c1row1_col0 {\n",
       "            background-color:  #f7fcf0;\n",
       "            color:  #000000;\n",
       "        }    #T_d107ac5c_2099_11ea_bfd0_4d599fe431c1row1_col1 {\n",
       "            background-color:  #084081;\n",
       "            color:  #f1f1f1;\n",
       "        }</style><table id=\"T_d107ac5c_2099_11ea_bfd0_4d599fe431c1\" ><thead>    <tr>        <th class=\"blank level0\" ></th>        <th class=\"col_heading level0 col0\" >temp_ma</th>        <th class=\"col_heading level0 col1\" >RTD_temp_ma</th>    </tr></thead><tbody>\n",
       "                <tr>\n",
       "                        <th id=\"T_d107ac5c_2099_11ea_bfd0_4d599fe431c1level0_row0\" class=\"row_heading level0 row0\" >temp_ma</th>\n",
       "                        <td id=\"T_d107ac5c_2099_11ea_bfd0_4d599fe431c1row0_col0\" class=\"data row0 col0\" >1</td>\n",
       "                        <td id=\"T_d107ac5c_2099_11ea_bfd0_4d599fe431c1row0_col1\" class=\"data row0 col1\" >0.986931</td>\n",
       "            </tr>\n",
       "            <tr>\n",
       "                        <th id=\"T_d107ac5c_2099_11ea_bfd0_4d599fe431c1level0_row1\" class=\"row_heading level0 row1\" >RTD_temp_ma</th>\n",
       "                        <td id=\"T_d107ac5c_2099_11ea_bfd0_4d599fe431c1row1_col0\" class=\"data row1 col0\" >0.986931</td>\n",
       "                        <td id=\"T_d107ac5c_2099_11ea_bfd0_4d599fe431c1row1_col1\" class=\"data row1 col1\" >1</td>\n",
       "            </tr>\n",
       "    </tbody></table>"
      ],
      "text/plain": [
       "<pandas.io.formats.style.Styler at 0x7f520f05e128>"
      ]
     },
     "execution_count": 675,
     "metadata": {},
     "output_type": "execute_result"
    }
   ],
   "source": [
    "corr = part3.corr()\n",
    "corr.style.background_gradient(cmap='GnBu')"
   ]
  },
  {
   "cell_type": "code",
   "execution_count": 676,
   "metadata": {},
   "outputs": [
    {
     "data": {
      "text/html": [
       "<style  type=\"text/css\" >\n",
       "    #T_d123985e_2099_11ea_bfd0_4d599fe431c1row0_col0 {\n",
       "            background-color:  #084081;\n",
       "            color:  #f1f1f1;\n",
       "        }    #T_d123985e_2099_11ea_bfd0_4d599fe431c1row0_col1 {\n",
       "            background-color:  #f7fcf0;\n",
       "            color:  #000000;\n",
       "        }    #T_d123985e_2099_11ea_bfd0_4d599fe431c1row1_col0 {\n",
       "            background-color:  #f7fcf0;\n",
       "            color:  #000000;\n",
       "        }    #T_d123985e_2099_11ea_bfd0_4d599fe431c1row1_col1 {\n",
       "            background-color:  #084081;\n",
       "            color:  #f1f1f1;\n",
       "        }</style><table id=\"T_d123985e_2099_11ea_bfd0_4d599fe431c1\" ><thead>    <tr>        <th class=\"blank level0\" ></th>        <th class=\"col_heading level0 col0\" >temp_ma</th>        <th class=\"col_heading level0 col1\" >RTD_temp_ma</th>    </tr></thead><tbody>\n",
       "                <tr>\n",
       "                        <th id=\"T_d123985e_2099_11ea_bfd0_4d599fe431c1level0_row0\" class=\"row_heading level0 row0\" >temp_ma</th>\n",
       "                        <td id=\"T_d123985e_2099_11ea_bfd0_4d599fe431c1row0_col0\" class=\"data row0 col0\" >1</td>\n",
       "                        <td id=\"T_d123985e_2099_11ea_bfd0_4d599fe431c1row0_col1\" class=\"data row0 col1\" >0.739928</td>\n",
       "            </tr>\n",
       "            <tr>\n",
       "                        <th id=\"T_d123985e_2099_11ea_bfd0_4d599fe431c1level0_row1\" class=\"row_heading level0 row1\" >RTD_temp_ma</th>\n",
       "                        <td id=\"T_d123985e_2099_11ea_bfd0_4d599fe431c1row1_col0\" class=\"data row1 col0\" >0.739928</td>\n",
       "                        <td id=\"T_d123985e_2099_11ea_bfd0_4d599fe431c1row1_col1\" class=\"data row1 col1\" >1</td>\n",
       "            </tr>\n",
       "    </tbody></table>"
      ],
      "text/plain": [
       "<pandas.io.formats.style.Styler at 0x7f521d4bb748>"
      ]
     },
     "execution_count": 676,
     "metadata": {},
     "output_type": "execute_result"
    }
   ],
   "source": [
    "corr = part4.corr()\n",
    "corr.style.background_gradient(cmap='GnBu')"
   ]
  },
  {
   "cell_type": "code",
   "execution_count": null,
   "metadata": {},
   "outputs": [],
   "source": []
  },
  {
   "cell_type": "code",
   "execution_count": null,
   "metadata": {},
   "outputs": [],
   "source": []
  },
  {
   "cell_type": "code",
   "execution_count": null,
   "metadata": {},
   "outputs": [],
   "source": []
  },
  {
   "cell_type": "code",
   "execution_count": null,
   "metadata": {},
   "outputs": [],
   "source": []
  },
  {
   "cell_type": "code",
   "execution_count": 712,
   "metadata": {},
   "outputs": [
    {
     "name": "stdout",
     "output_type": "stream",
     "text": [
      "current average = 5.5\n",
      "readings used for average: [1, 2, 3, 4, 5, 6, 7, 8, 9, 10]\n",
      "readings saved for next time: [2, 3, 4, 5, 6, 7, 8, 9, 10]\n"
     ]
    }
   ],
   "source": [
    "readings = [1,2,3,4,5,6,7,8,9,10]\n",
    "reading = 10\n",
    "max_samples = 10\n",
    "\n",
    "def mean(nums):\n",
    "    return float(sum(nums)) / max(len(nums), 1)\n",
    "\n",
    "# readings.append(reading)\n",
    "avg = mean(readings)\n",
    "\n",
    "print('current average =', avg)\n",
    "print('readings used for average:', readings)\n",
    "\n",
    "if len(readings) == max_samples:\n",
    "    readings.pop(0)\n",
    "\n",
    "print('readings saved for next time:', readings)"
   ]
  },
  {
   "cell_type": "code",
   "execution_count": null,
   "metadata": {},
   "outputs": [],
   "source": []
  }
 ],
 "metadata": {
  "kernelspec": {
   "display_name": "Python 3",
   "language": "python",
   "name": "python3"
  },
  "language_info": {
   "codemirror_mode": {
    "name": "ipython",
    "version": 3
   },
   "file_extension": ".py",
   "mimetype": "text/x-python",
   "name": "python",
   "nbconvert_exporter": "python",
   "pygments_lexer": "ipython3",
   "version": "3.7.3"
  }
 },
 "nbformat": 4,
 "nbformat_minor": 4
}

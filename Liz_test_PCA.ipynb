{
 "cells": [
  {
   "cell_type": "code",
   "execution_count": 65,
   "metadata": {},
   "outputs": [],
   "source": [
    "import numpy as np\n",
    "from numpy.testing import assert_almost_equal"
   ]
  },
  {
   "cell_type": "code",
   "execution_count": 66,
   "metadata": {},
   "outputs": [],
   "source": [
    "# 顯示小數點下兩位，保持畫面簡潔\n",
    "np.set_printoptions(precision=2)"
   ]
  },
  {
   "cell_type": "code",
   "execution_count": 67,
   "metadata": {},
   "outputs": [],
   "source": [
    "# reproductivity\n",
    "rng = np.random.RandomState(1)"
   ]
  },
  {
   "cell_type": "code",
   "execution_count": 68,
   "metadata": {},
   "outputs": [
    {
     "data": {
      "text/plain": [
       "array([[4.17e-01, 7.20e-01],\n",
       "       [1.14e-04, 3.02e-01]])"
      ]
     },
     "execution_count": 68,
     "metadata": {},
     "output_type": "execute_result"
    }
   ],
   "source": [
    "# 初始化實驗數據並減去平均（文後會說明為何要減去平均）\n",
    "W = rng.rand(2, 2)\n",
    "W"
   ]
  },
  {
   "cell_type": "code",
   "execution_count": 69,
   "metadata": {},
   "outputs": [
    {
     "data": {
      "text/plain": [
       "array([[ -2.64,  -5.36,   4.33, -11.51,   8.72,  -3.81,   1.6 ,  -1.25,\n",
       "          7.31, -10.3 ,  -1.61,  -1.92,   5.67,  -5.5 ,  -0.86,  -4.39,\n",
       "          0.21,   2.91,  -5.5 ,   5.72],\n",
       "       [  4.51,   2.51,   4.5 ,  -3.42,  -0.61,  -4.68,  -1.34,   2.65,\n",
       "         -3.46,  -1.98,  -3.44,  -4.23,  -3.36,  -0.06,  -5.59,   1.17,\n",
       "          8.3 ,   3.71,  -0.96,  -4.44]])"
      ]
     },
     "execution_count": 69,
     "metadata": {},
     "output_type": "execute_result"
    }
   ],
   "source": [
    "X_normal = rng.normal(scale=5, size=(2, 20))\n",
    "X_normal"
   ]
  },
  {
   "cell_type": "code",
   "execution_count": 70,
   "metadata": {},
   "outputs": [
    {
     "data": {
      "text/plain": [
       "array([[ 2.15, -0.43,  5.05, -7.26,  3.2 , -4.96, -0.3 ,  1.39,  0.56,\n",
       "        -5.72, -3.15, -3.84, -0.05, -2.34, -4.38, -0.99,  6.07,  3.89,\n",
       "        -2.99, -0.81],\n",
       "       [ 1.36,  0.76,  1.36, -1.03, -0.18, -1.42, -0.4 ,  0.8 , -1.04,\n",
       "        -0.6 , -1.04, -1.28, -1.01, -0.02, -1.69,  0.35,  2.51,  1.12,\n",
       "        -0.29, -1.34]])"
      ]
     },
     "execution_count": 70,
     "metadata": {},
     "output_type": "execute_result"
    }
   ],
   "source": [
    "X_orig = W @ X_normal  # @ 就是你學過的矩陣相乘運算\n",
    "X_orig"
   ]
  },
  {
   "cell_type": "code",
   "execution_count": 71,
   "metadata": {},
   "outputs": [
    {
     "data": {
      "text/plain": [
       "array([[-0.75],\n",
       "       [-0.15]])"
      ]
     },
     "execution_count": 71,
     "metadata": {},
     "output_type": "execute_result"
    }
   ],
   "source": [
    "X_mean = X_orig.mean(axis=1)[:, np.newaxis]\n",
    "X_mean"
   ]
  },
  {
   "cell_type": "code",
   "execution_count": 72,
   "metadata": {},
   "outputs": [
    {
     "data": {
      "text/plain": [
       "array([[ 2.89,  0.32,  5.8 , -6.52,  3.94, -4.21,  0.45,  2.14,  1.3 ,\n",
       "        -4.98, -2.4 , -3.1 ,  0.69, -1.59, -3.64, -0.24,  6.81,  4.63,\n",
       "        -2.24, -0.06],\n",
       "       [ 1.52,  0.91,  1.52, -0.88, -0.03, -1.26, -0.25,  0.96, -0.89,\n",
       "        -0.45, -0.88, -1.12, -0.86,  0.13, -1.53,  0.51,  2.66,  1.28,\n",
       "        -0.14, -1.19]])"
      ]
     },
     "execution_count": 72,
     "metadata": {},
     "output_type": "execute_result"
    }
   ],
   "source": [
    "X = X_orig - X_mean\n",
    "X"
   ]
  },
  {
   "cell_type": "code",
   "execution_count": 73,
   "metadata": {},
   "outputs": [
    {
     "data": {
      "text/plain": [
       "array([-1.11e-17, -2.22e-17])"
      ]
     },
     "execution_count": 73,
     "metadata": {},
     "output_type": "execute_result"
    }
   ],
   "source": [
    "mean = X.mean(axis=1)\n",
    "mean"
   ]
  },
  {
   "cell_type": "code",
   "execution_count": 77,
   "metadata": {},
   "outputs": [],
   "source": [
    "# 測試 numerical 相等，確保樣本的平均已經為 0\n",
    "assert_almost_equal(0, mean)"
   ]
  },
  {
   "cell_type": "code",
   "execution_count": 75,
   "metadata": {},
   "outputs": [
    {
     "name": "stdout",
     "output_type": "stream",
     "text": [
      "X.shape: (2, 20) \n",
      "\n",
      "[[ 2.89  0.32  5.8  -6.52  3.94 -4.21  0.45  2.14  1.3  -4.98 -2.4  -3.1\n",
      "   0.69 -1.59 -3.64 -0.24  6.81  4.63 -2.24 -0.06]\n",
      " [ 1.52  0.91  1.52 -0.88 -0.03 -1.26 -0.25  0.96 -0.89 -0.45 -0.88 -1.12\n",
      "  -0.86  0.13 -1.53  0.51  2.66  1.28 -0.14 -1.19]]\n"
     ]
    }
   ],
   "source": [
    "print('X.shape:', X.shape, '\\n')\n",
    "print(X)"
   ]
  },
  {
   "cell_type": "code",
   "execution_count": 78,
   "metadata": {},
   "outputs": [
    {
     "data": {
      "text/plain": [
       "array([2.89, 1.52])"
      ]
     },
     "execution_count": 78,
     "metadata": {},
     "output_type": "execute_result"
    }
   ],
   "source": [
    "\"\"\"\n",
    "每個樣本為一個 column vector，索引從 0 開始\n",
    "第一個 「 : 」 代表取得所有對應的 rows\n",
    "\"\"\"\n",
    "X[:, 0]"
   ]
  },
  {
   "cell_type": "code",
   "execution_count": 79,
   "metadata": {},
   "outputs": [
    {
     "data": {
      "text/plain": [
       "array([2.89, 1.52])"
      ]
     },
     "execution_count": 79,
     "metadata": {},
     "output_type": "execute_result"
    }
   ],
   "source": [
    "\"\"\"\n",
    "跟上例一樣取出第一個樣本。\n",
    "因第一維度為 n_samples ，只需要一維索引即可\n",
    "\"\"\"\n",
    "# sanity check\n",
    "assert_almost_equal(X[:, 0], X.T[0])\n",
    "X.T[0]"
   ]
  },
  {
   "cell_type": "code",
   "execution_count": 80,
   "metadata": {},
   "outputs": [
    {
     "data": {
      "text/plain": [
       "array([[ 2.89,  0.32,  5.8 , -6.52,  3.94, -4.21],\n",
       "       [ 1.52,  0.91,  1.52, -0.88, -0.03, -1.26]])"
      ]
     },
     "execution_count": 80,
     "metadata": {},
     "output_type": "execute_result"
    }
   ],
   "source": [
    "X[:, :6]"
   ]
  },
  {
   "cell_type": "code",
   "execution_count": 82,
   "metadata": {},
   "outputs": [
    {
     "data": {
      "text/plain": [
       "<matplotlib.collections.PathCollection at 0x7f6e3bdf00b8>"
      ]
     },
     "execution_count": 82,
     "metadata": {},
     "output_type": "execute_result"
    },
    {
     "data": {
      "image/png": "[encoded data removed]",
      "text/plain": [
       "<Figure size 432x288 with 1 Axes>"
      ]
     },
     "metadata": {
      "needs_background": "light"
     },
     "output_type": "display_data"
    }
   ],
   "source": [
    "import matplotlib.pyplot as plt\n",
    "plt.scatter(X[0], X[1])"
   ]
  },
  {
   "cell_type": "code",
   "execution_count": 83,
   "metadata": {},
   "outputs": [
    {
     "data": {
      "text/plain": [
       "array([[ 2.89,  0.32,  5.8 , -6.52],\n",
       "       [ 1.52,  0.91,  1.52, -0.88]])"
      ]
     },
     "execution_count": 83,
     "metadata": {},
     "output_type": "execute_result"
    }
   ],
   "source": [
    "X[:, :4]"
   ]
  },
  {
   "cell_type": "code",
   "execution_count": 90,
   "metadata": {},
   "outputs": [
    {
     "data": {
      "image/png": "[encoded data removed]",
      "text/plain": [
       "<Figure size 576x396 with 1 Axes>"
      ]
     },
     "metadata": {},
     "output_type": "display_data"
    }
   ],
   "source": [
    "import matplotlib.pyplot as plt\n",
    "plt.style.use('seaborn')\n",
    "\n",
    "# 第一個參數為所有的 xs, 第二個參數為所有的 ys\n",
    "plt.scatter(X[0, :], X[1, :])\n",
    "plt.axis('equal');"
   ]
  },
  {
   "cell_type": "code",
   "execution_count": 96,
   "metadata": {},
   "outputs": [
    {
     "name": "stdout",
     "output_type": "stream",
     "text": [
      "v       : [0.97 0.25]\n"
     ]
    }
   ],
   "source": [
    "# 該直線的單位向量（顯示到小數後第兩位）\n",
    "v = np.array([0.9691344, 0.246533])\n",
    "print(\"v       :\", v)  # shape: (2,)\n",
    "assert_almost_equal(1, np.linalg.norm(v))"
   ]
  },
  {
   "cell_type": "code",
   "execution_count": 92,
   "metadata": {},
   "outputs": [
    {
     "name": "stdout",
     "output_type": "stream",
     "text": [
      "P1      : [[0.97 0.25]]\n"
     ]
    }
   ],
   "source": [
    "# 使用 v 建立投影矩陣 Ｐ1\n",
    "# 因為 P 是將 X 投影到 1 維，因此加個 1 在後面\n",
    "P1 = v[np.newaxis, :]  # shape: (1, 2)\n",
    "print(\"P1      :\", P1)"
   ]
  },
  {
   "cell_type": "code",
   "execution_count": 93,
   "metadata": {},
   "outputs": [],
   "source": [
    "# 利用 P1 將數據 X 投影到 v 所在子空間 \n",
    "L = P1 @ X"
   ]
  },
  {
   "cell_type": "code",
   "execution_count": 94,
   "metadata": {},
   "outputs": [
    {
     "name": "stdout",
     "output_type": "stream",
     "text": [
      "L[:, :4]: [[ 3.18  0.53  5.99 -6.53]]\n"
     ]
    }
   ],
   "source": [
    "# 前 4 個樣本的新特徵 L 跟動畫內結果相同\n",
    "print(\"L[:, :4]:\", L[:, :4])"
   ]
  },
  {
   "cell_type": "code",
   "execution_count": 97,
   "metadata": {},
   "outputs": [],
   "source": [
    "# PCA 是一種拆解並重新表述數據的技巧\n",
    "from sklearn.decomposition import PCA\n",
    "\n",
    "# 最大化 reproductivity\n",
    "random_state = 9527"
   ]
  },
  {
   "cell_type": "code",
   "execution_count": 98,
   "metadata": {},
   "outputs": [
    {
     "name": "stdout",
     "output_type": "stream",
     "text": [
      "L_sk.shape: (1, 20)\n",
      "L_sk: [[ 3.18  0.53  5.99 -6.53]]\n"
     ]
    }
   ],
   "source": [
    "# 使用 sklearn 實作的 PCA 將數據 X 線性地降到 1 維\n",
    "# 這邊值得注意的是 sklearn API 預期的輸入維度為\n",
    "# (n_samples, n_features), 輸出自然也是。\n",
    "pca_1d = PCA(1, random_state=random_state)\n",
    "L_sk = pca_1d.fit_transform(X.T).T \n",
    "print('L_sk.shape:', L_sk.shape)\n",
    "print('L_sk:', L_sk[:, :4])"
   ]
  },
  {
   "cell_type": "code",
   "execution_count": 99,
   "metadata": {},
   "outputs": [],
   "source": [
    "# sklearn API 得到的結果跟我們手動計算結果相同\n",
    "assert_almost_equal(L_sk, L)"
   ]
  },
  {
   "cell_type": "code",
   "execution_count": 104,
   "metadata": {},
   "outputs": [],
   "source": [
    "# 橫看成嶺側成峰\n",
    "data = X.T\n",
    "L_transpose = pca_1d.transform(data)\n",
    "assert_almost_equal(L.T, L_transpose)\n",
    "# 通過測驗，沒有 assert error"
   ]
  },
  {
   "cell_type": "code",
   "execution_count": 107,
   "metadata": {},
   "outputs": [
    {
     "data": {
      "text/plain": [
       "array([[ 3.18,  0.53,  5.99, -6.53,  3.81, -4.39,  0.37,  2.31,  1.04,\n",
       "        -4.93, -2.54, -3.28,  0.46, -1.51, -3.9 , -0.11,  7.26,  4.81,\n",
       "        -2.2 , -0.35]])"
      ]
     },
     "execution_count": 107,
     "metadata": {},
     "output_type": "execute_result"
    }
   ],
   "source": [
    "L"
   ]
  },
  {
   "cell_type": "code",
   "execution_count": 106,
   "metadata": {},
   "outputs": [
    {
     "data": {
      "text/plain": [
       "12.08412078803945"
      ]
     },
     "execution_count": 106,
     "metadata": {},
     "output_type": "execute_result"
    }
   ],
   "source": [
    "\"\"\"\n",
    "scikit-learn 裡頭的 pca 實作， transform() 就對應到上式的 T\n",
    "而 inverse_transform() 則對應到 T-1。\n",
    "\"\"\"\n",
    "# 從新的一維特徵 L 還原回原來的 2 維數據\n",
    "X_proj = pca_1d.inverse_transform(L.T).T  # 注意維度\n",
    "\n",
    "# 依照樣本的原始向量以及投影向量算距離後加總\n",
    "# 你可以一個個樣本分開計算距離並加總與此數值比較\n",
    "reconstruction_error =  np.linalg.norm(X - X_proj, axis=0).sum()\n",
    "reconstruction_error"
   ]
  },
  {
   "cell_type": "code",
   "execution_count": 109,
   "metadata": {},
   "outputs": [
    {
     "data": {
      "text/plain": [
       "array([[0.97, 0.25]])"
      ]
     },
     "execution_count": 109,
     "metadata": {},
     "output_type": "execute_result"
    }
   ],
   "source": [
    "\"\"\"\n",
    "手動得到 scikit-learn API 的計算結果\n",
    "\"\"\"\n",
    "# 因為前面的 v 向量的 precision 不夠會導致誤差太大，\n",
    "# 這邊重新建構 P1\n",
    "P1 = pca_1d.components_\n",
    "P1"
   ]
  },
  {
   "cell_type": "code",
   "execution_count": 110,
   "metadata": {},
   "outputs": [],
   "source": [
    "assert_almost_equal(P1.T @ L, X_proj)"
   ]
  },
  {
   "cell_type": "code",
   "execution_count": 108,
   "metadata": {},
   "outputs": [
    {
     "data": {
      "text/plain": [
       "array([[ 3.08,  0.52,  5.81, -6.33],\n",
       "       [ 0.78,  0.13,  1.48, -1.61]])"
      ]
     },
     "execution_count": 108,
     "metadata": {},
     "output_type": "execute_result"
    }
   ],
   "source": [
    "X_proj[:, :4]"
   ]
  },
  {
   "cell_type": "code",
   "execution_count": 111,
   "metadata": {},
   "outputs": [
    {
     "name": "stdout",
     "output_type": "stream",
     "text": [
      "X.shape: (2, 20) \n",
      "\n",
      "[[ 2.89  0.32  5.8  -6.52  3.94 -4.21  0.45  2.14  1.3  -4.98 -2.4  -3.1\n",
      "   0.69 -1.59 -3.64 -0.24  6.81  4.63 -2.24 -0.06]\n",
      " [ 1.52  0.91  1.52 -0.88 -0.03 -1.26 -0.25  0.96 -0.89 -0.45 -0.88 -1.12\n",
      "  -0.86  0.13 -1.53  0.51  2.66  1.28 -0.14 -1.19]] \n",
      "\n"
     ]
    }
   ],
   "source": [
    "# 別忘記 X 維度是 (n_features, n_samples)\n",
    "print(\"X.shape:\", X.shape, \"\\n\")\n",
    "print(X, \"\\n\")"
   ]
  },
  {
   "cell_type": "code",
   "execution_count": 112,
   "metadata": {},
   "outputs": [],
   "source": [
    "# 分別計算兩特徵的樣本平均\n",
    "f1_bar = X[0].mean()\n",
    "f2_bar = X[1].mean()"
   ]
  },
  {
   "cell_type": "code",
   "execution_count": 113,
   "metadata": {},
   "outputs": [
    {
     "name": "stdout",
     "output_type": "stream",
     "text": [
      "f1_bar: -1.1102230246251566e-17\n",
      "f2_bar: -2.2204460492503132e-17\n"
     ]
    }
   ],
   "source": [
    "# 因為我們當初已經減去各特徵平均， 兩者事實上已經為 0 \n",
    "# 也就是說 f1_bar 與 f2_bar 分別跟 y, x 軸重疊\n",
    "print(\"f1_bar:\", f1_bar)\n",
    "print(\"f2_bar:\", f2_bar)\n",
    "assert_almost_equal(0, f1_bar)\n",
    "assert_almost_equal(0, f2_bar)"
   ]
  },
  {
   "cell_type": "code",
   "execution_count": 114,
   "metadata": {},
   "outputs": [
    {
     "name": "stdout",
     "output_type": "stream",
     "text": [
      "\n",
      "Cov(f1, f2): 3.27\n"
     ]
    }
   ],
   "source": [
    "# 樣本共變異估計平均每個樣本裡特徵 1 跟特徵 2 的共同變化程度\n",
    "# 為了幫助你理解，我用世界上最沒效率，但跟公式最相近的方式計算\n",
    "cov = 0\n",
    "for x in X.T:  # 這時就能看出 (n_samples, ) 維度在前的好處\n",
    "    f1, f2 = x\n",
    "    cov += (f1 - f1_bar) * (f2 - f2_bar)\n",
    "\n",
    "n = X.shape[1]\n",
    "cov /= n - 1\n",
    "print(\"\\nCov(f1, f2): {:.2f}\".format(cov))"
   ]
  },
  {
   "cell_type": "code",
   "execution_count": null,
   "metadata": {},
   "outputs": [],
   "source": []
  },
  {
   "cell_type": "code",
   "execution_count": null,
   "metadata": {},
   "outputs": [],
   "source": []
  }
 ],
 "metadata": {
  "kernelspec": {
   "display_name": "Python 3",
   "language": "python",
   "name": "python3"
  },
  "language_info": {
   "codemirror_mode": {
    "name": "ipython",
    "version": 3
   },
   "file_extension": ".py",
   "mimetype": "text/x-python",
   "name": "python",
   "nbconvert_exporter": "python",
   "pygments_lexer": "ipython3",
   "version": "3.7.3"
  }
 },
 "nbformat": 4,
 "nbformat_minor": 2
}
